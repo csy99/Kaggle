{
 "cells": [
  {
   "cell_type": "code",
   "execution_count": 1,
   "metadata": {},
   "outputs": [],
   "source": [
    "import numpy as np\n",
    "import matplotlib.pyplot as plt\n",
    "\n",
    "%matplotlib inline\n",
    "plt.rcParams['figure.figsize'] = (5.0, 4.0) # set default size of plots"
   ]
  },
  {
   "cell_type": "code",
   "execution_count": 2,
   "metadata": {},
   "outputs": [],
   "source": [
    "import pandas as pd"
   ]
  },
  {
   "cell_type": "code",
   "execution_count": 3,
   "metadata": {},
   "outputs": [],
   "source": [
    "train = pd.read_csv(\"train.csv\")\n",
    "test = pd.read_csv(\"test.csv\")"
   ]
  },
  {
   "cell_type": "code",
   "execution_count": 4,
   "metadata": {},
   "outputs": [
    {
     "data": {
      "text/html": [
       "<div>\n",
       "<style scoped>\n",
       "    .dataframe tbody tr th:only-of-type {\n",
       "        vertical-align: middle;\n",
       "    }\n",
       "\n",
       "    .dataframe tbody tr th {\n",
       "        vertical-align: top;\n",
       "    }\n",
       "\n",
       "    .dataframe thead th {\n",
       "        text-align: right;\n",
       "    }\n",
       "</style>\n",
       "<table border=\"1\" class=\"dataframe\">\n",
       "  <thead>\n",
       "    <tr style=\"text-align: right;\">\n",
       "      <th></th>\n",
       "      <th>Id</th>\n",
       "      <th>v2a1</th>\n",
       "      <th>hacdor</th>\n",
       "      <th>rooms</th>\n",
       "      <th>hacapo</th>\n",
       "      <th>v14a</th>\n",
       "      <th>refrig</th>\n",
       "      <th>v18q</th>\n",
       "      <th>v18q1</th>\n",
       "      <th>r4h1</th>\n",
       "      <th>...</th>\n",
       "      <th>SQBescolari</th>\n",
       "      <th>SQBage</th>\n",
       "      <th>SQBhogar_total</th>\n",
       "      <th>SQBedjefe</th>\n",
       "      <th>SQBhogar_nin</th>\n",
       "      <th>SQBovercrowding</th>\n",
       "      <th>SQBdependency</th>\n",
       "      <th>SQBmeaned</th>\n",
       "      <th>agesq</th>\n",
       "      <th>Target</th>\n",
       "    </tr>\n",
       "  </thead>\n",
       "  <tbody>\n",
       "    <tr>\n",
       "      <th>0</th>\n",
       "      <td>ID_279628684</td>\n",
       "      <td>190000.0</td>\n",
       "      <td>0</td>\n",
       "      <td>3</td>\n",
       "      <td>0</td>\n",
       "      <td>1</td>\n",
       "      <td>1</td>\n",
       "      <td>0</td>\n",
       "      <td>NaN</td>\n",
       "      <td>0</td>\n",
       "      <td>...</td>\n",
       "      <td>100</td>\n",
       "      <td>1849</td>\n",
       "      <td>1</td>\n",
       "      <td>100</td>\n",
       "      <td>0</td>\n",
       "      <td>1.000000</td>\n",
       "      <td>0.0</td>\n",
       "      <td>100.0</td>\n",
       "      <td>1849</td>\n",
       "      <td>4</td>\n",
       "    </tr>\n",
       "    <tr>\n",
       "      <th>1</th>\n",
       "      <td>ID_f29eb3ddd</td>\n",
       "      <td>135000.0</td>\n",
       "      <td>0</td>\n",
       "      <td>4</td>\n",
       "      <td>0</td>\n",
       "      <td>1</td>\n",
       "      <td>1</td>\n",
       "      <td>1</td>\n",
       "      <td>1.0</td>\n",
       "      <td>0</td>\n",
       "      <td>...</td>\n",
       "      <td>144</td>\n",
       "      <td>4489</td>\n",
       "      <td>1</td>\n",
       "      <td>144</td>\n",
       "      <td>0</td>\n",
       "      <td>1.000000</td>\n",
       "      <td>64.0</td>\n",
       "      <td>144.0</td>\n",
       "      <td>4489</td>\n",
       "      <td>4</td>\n",
       "    </tr>\n",
       "    <tr>\n",
       "      <th>2</th>\n",
       "      <td>ID_68de51c94</td>\n",
       "      <td>NaN</td>\n",
       "      <td>0</td>\n",
       "      <td>8</td>\n",
       "      <td>0</td>\n",
       "      <td>1</td>\n",
       "      <td>1</td>\n",
       "      <td>0</td>\n",
       "      <td>NaN</td>\n",
       "      <td>0</td>\n",
       "      <td>...</td>\n",
       "      <td>121</td>\n",
       "      <td>8464</td>\n",
       "      <td>1</td>\n",
       "      <td>0</td>\n",
       "      <td>0</td>\n",
       "      <td>0.250000</td>\n",
       "      <td>64.0</td>\n",
       "      <td>121.0</td>\n",
       "      <td>8464</td>\n",
       "      <td>4</td>\n",
       "    </tr>\n",
       "    <tr>\n",
       "      <th>3</th>\n",
       "      <td>ID_d671db89c</td>\n",
       "      <td>180000.0</td>\n",
       "      <td>0</td>\n",
       "      <td>5</td>\n",
       "      <td>0</td>\n",
       "      <td>1</td>\n",
       "      <td>1</td>\n",
       "      <td>1</td>\n",
       "      <td>1.0</td>\n",
       "      <td>0</td>\n",
       "      <td>...</td>\n",
       "      <td>81</td>\n",
       "      <td>289</td>\n",
       "      <td>16</td>\n",
       "      <td>121</td>\n",
       "      <td>4</td>\n",
       "      <td>1.777778</td>\n",
       "      <td>1.0</td>\n",
       "      <td>121.0</td>\n",
       "      <td>289</td>\n",
       "      <td>4</td>\n",
       "    </tr>\n",
       "    <tr>\n",
       "      <th>4</th>\n",
       "      <td>ID_d56d6f5f5</td>\n",
       "      <td>180000.0</td>\n",
       "      <td>0</td>\n",
       "      <td>5</td>\n",
       "      <td>0</td>\n",
       "      <td>1</td>\n",
       "      <td>1</td>\n",
       "      <td>1</td>\n",
       "      <td>1.0</td>\n",
       "      <td>0</td>\n",
       "      <td>...</td>\n",
       "      <td>121</td>\n",
       "      <td>1369</td>\n",
       "      <td>16</td>\n",
       "      <td>121</td>\n",
       "      <td>4</td>\n",
       "      <td>1.777778</td>\n",
       "      <td>1.0</td>\n",
       "      <td>121.0</td>\n",
       "      <td>1369</td>\n",
       "      <td>4</td>\n",
       "    </tr>\n",
       "  </tbody>\n",
       "</table>\n",
       "<p>5 rows × 143 columns</p>\n",
       "</div>"
      ],
      "text/plain": [
       "             Id      v2a1  hacdor  rooms  hacapo  v14a  refrig  v18q  v18q1  \\\n",
       "0  ID_279628684  190000.0       0      3       0     1       1     0    NaN   \n",
       "1  ID_f29eb3ddd  135000.0       0      4       0     1       1     1    1.0   \n",
       "2  ID_68de51c94       NaN       0      8       0     1       1     0    NaN   \n",
       "3  ID_d671db89c  180000.0       0      5       0     1       1     1    1.0   \n",
       "4  ID_d56d6f5f5  180000.0       0      5       0     1       1     1    1.0   \n",
       "\n",
       "   r4h1   ...    SQBescolari  SQBage  SQBhogar_total  SQBedjefe  SQBhogar_nin  \\\n",
       "0     0   ...            100    1849               1        100             0   \n",
       "1     0   ...            144    4489               1        144             0   \n",
       "2     0   ...            121    8464               1          0             0   \n",
       "3     0   ...             81     289              16        121             4   \n",
       "4     0   ...            121    1369              16        121             4   \n",
       "\n",
       "   SQBovercrowding  SQBdependency  SQBmeaned  agesq  Target  \n",
       "0         1.000000            0.0      100.0   1849       4  \n",
       "1         1.000000           64.0      144.0   4489       4  \n",
       "2         0.250000           64.0      121.0   8464       4  \n",
       "3         1.777778            1.0      121.0    289       4  \n",
       "4         1.777778            1.0      121.0   1369       4  \n",
       "\n",
       "[5 rows x 143 columns]"
      ]
     },
     "execution_count": 4,
     "metadata": {},
     "output_type": "execute_result"
    }
   ],
   "source": [
    "train.head()"
   ]
  },
  {
   "cell_type": "code",
   "execution_count": 5,
   "metadata": {},
   "outputs": [],
   "source": [
    "yTrain = train.Target\n",
    "xTrain = train.drop(['Target','Id'], axis=1)"
   ]
  },
  {
   "cell_type": "code",
   "execution_count": 6,
   "metadata": {},
   "outputs": [
    {
     "data": {
      "text/plain": [
       "(9557, 141)"
      ]
     },
     "execution_count": 6,
     "metadata": {},
     "output_type": "execute_result"
    }
   ],
   "source": [
    "xTrain.shape"
   ]
  },
  {
   "cell_type": "code",
   "execution_count": 7,
   "metadata": {},
   "outputs": [
    {
     "data": {
      "text/plain": [
       "4    5996\n",
       "2    1597\n",
       "3    1209\n",
       "1     755\n",
       "Name: Target, dtype: int64"
      ]
     },
     "execution_count": 7,
     "metadata": {},
     "output_type": "execute_result"
    }
   ],
   "source": [
    "yTrain.value_counts()"
   ]
  },
  {
   "cell_type": "markdown",
   "metadata": {},
   "source": [
    "# Feature Engineering Module"
   ]
  },
  {
   "cell_type": "code",
   "execution_count": 8,
   "metadata": {
    "scrolled": true
   },
   "outputs": [
    {
     "data": {
      "text/plain": [
       "v2a1         6860\n",
       "v18q1        7342\n",
       "rez_esc      7928\n",
       "meaneduc        5\n",
       "SQBmeaned       5\n",
       "dtype: int64"
      ]
     },
     "execution_count": 8,
     "metadata": {},
     "output_type": "execute_result"
    }
   ],
   "source": [
    "train_null = xTrain.isnull().sum()\n",
    "train_null[train_null != 0]"
   ]
  },
  {
   "cell_type": "code",
   "execution_count": 9,
   "metadata": {},
   "outputs": [
    {
     "data": {
      "text/plain": [
       "0.0    1211\n",
       "1.0     227\n",
       "2.0      98\n",
       "3.0      55\n",
       "4.0      29\n",
       "5.0       9\n",
       "Name: rez_esc, dtype: int64"
      ]
     },
     "execution_count": 9,
     "metadata": {},
     "output_type": "execute_result"
    }
   ],
   "source": [
    "xTrain.rez_esc.value_counts()"
   ]
  },
  {
   "cell_type": "code",
   "execution_count": 10,
   "metadata": {},
   "outputs": [
    {
     "data": {
      "text/plain": [
       "7928"
      ]
     },
     "execution_count": 10,
     "metadata": {},
     "output_type": "execute_result"
    }
   ],
   "source": [
    "xTrain.rez_esc.isnull().sum()"
   ]
  },
  {
   "cell_type": "markdown",
   "metadata": {},
   "source": [
    "part of my code in Feature Engineering Module is credited to https://www.kaggle.com/willkoehrsen/featuretools-for-good"
   ]
  },
  {
   "cell_type": "code",
   "execution_count": 11,
   "metadata": {},
   "outputs": [
    {
     "data": {
      "text/plain": [
       "0"
      ]
     },
     "execution_count": 11,
     "metadata": {},
     "output_type": "execute_result"
    }
   ],
   "source": [
    "xTrain.loc[((xTrain['age'] > 19) | (xTrain['age'] < 7)) & (xTrain['rez_esc'].isnull()), 'rez_esc'] = 0\n",
    "xTrain.rez_esc.fillna(xTrain.rez_esc.mean(), inplace=True)\n",
    "\n",
    "xTrain.rez_esc.isnull().sum()"
   ]
  },
  {
   "cell_type": "code",
   "execution_count": 12,
   "metadata": {},
   "outputs": [],
   "source": [
    "xTrain[\"v18q1\"] = xTrain[\"v18q1\"].fillna(0)"
   ]
  },
  {
   "cell_type": "code",
   "execution_count": 13,
   "metadata": {},
   "outputs": [],
   "source": [
    "# Fill in households that own the house with 0 rent payment\n",
    "xTrain.loc[(xTrain['tipovivi1'] == 1), 'v2a1'] = 0\n",
    "xTrain[\"v2a1\"].fillna(xTrain[\"v2a1\"].mean(), inplace=True)\n",
    "xTrain[\"meaneduc\"].fillna(xTrain[\"meaneduc\"].mean(), inplace=True)\n",
    "xTrain[\"SQBmeaned\"].fillna(xTrain[\"SQBmeaned\"].mean(), inplace=True)"
   ]
  },
  {
   "cell_type": "code",
   "execution_count": 14,
   "metadata": {},
   "outputs": [],
   "source": [
    "# Difference between people living in house and household size\n",
    "xTrain['hhsize-diff'] = xTrain['tamviv'] - xTrain['hhsize']"
   ]
  },
  {
   "cell_type": "code",
   "execution_count": 15,
   "metadata": {},
   "outputs": [],
   "source": [
    "xTrain['walls'] = np.argmax(np.array(xTrain[['epared1', 'epared2', 'epared3']]), axis = 1)\n",
    "\n",
    "# Roof ordinal variable\n",
    "xTrain['roof'] = np.argmax(np.array(xTrain[['etecho1', 'etecho2', 'etecho3']]), axis = 1)\n",
    "\n",
    "# Floor ordinal variable\n",
    "xTrain['floor'] = np.argmax(np.array(xTrain[['eviv1', 'eviv2', 'eviv3']]), axis = 1)\n",
    "\n",
    "# Create new feature\n",
    "xTrain['walls+roof+floor'] = xTrain['walls'] + xTrain['roof'] + xTrain['floor']"
   ]
  },
  {
   "cell_type": "code",
   "execution_count": 16,
   "metadata": {},
   "outputs": [],
   "source": [
    "# No toilet, no electricity, no floor, no water service, no ceiling\n",
    "xTrain['warning'] = 1 * (xTrain['sanitario1'] + \n",
    "                         xTrain['noelec'] + \n",
    "                         xTrain['pisonotiene'] + \n",
    "                         xTrain['abastaguano'] + \n",
    "                         (xTrain['cielorazo'] == 0))"
   ]
  },
  {
   "cell_type": "code",
   "execution_count": 17,
   "metadata": {},
   "outputs": [],
   "source": [
    "# Owns a refrigerator, computer, tablet, and television\n",
    "xTrain['bonus'] = 1 * (xTrain['refrig'] + \n",
    "                      xTrain['computer'] + \n",
    "                      (xTrain['v18q1'] > 0) + \n",
    "                      xTrain['television'])"
   ]
  },
  {
   "cell_type": "code",
   "execution_count": 18,
   "metadata": {},
   "outputs": [],
   "source": [
    "# Per capita features\n",
    "xTrain['phones-per-capita'] = xTrain['qmobilephone'] / xTrain['tamviv']\n",
    "xTrain['tablets-per-capita'] = xTrain['v18q1'] / xTrain['tamviv']\n",
    "xTrain['rooms-per-capita'] = xTrain['rooms'] / xTrain['tamviv']\n",
    "xTrain['rent-per-capita'] = xTrain['v2a1'] / xTrain['tamviv']"
   ]
  },
  {
   "cell_type": "code",
   "execution_count": 19,
   "metadata": {},
   "outputs": [],
   "source": [
    "xTrain['tech'] = xTrain['v18q'] + xTrain['mobilephone']"
   ]
  },
  {
   "cell_type": "code",
   "execution_count": 20,
   "metadata": {},
   "outputs": [
    {
     "data": {
      "text/plain": [
       "['idhogar', 'dependency', 'edjefe', 'edjefa']"
      ]
     },
     "execution_count": 20,
     "metadata": {},
     "output_type": "execute_result"
    }
   ],
   "source": [
    "string_column = [f for f in xTrain.columns if xTrain.dtypes[f] == 'object']\n",
    "string_column"
   ]
  },
  {
   "cell_type": "code",
   "execution_count": 21,
   "metadata": {},
   "outputs": [
    {
     "data": {
      "text/html": [
       "<div>\n",
       "<style scoped>\n",
       "    .dataframe tbody tr th:only-of-type {\n",
       "        vertical-align: middle;\n",
       "    }\n",
       "\n",
       "    .dataframe tbody tr th {\n",
       "        vertical-align: top;\n",
       "    }\n",
       "\n",
       "    .dataframe thead th {\n",
       "        text-align: right;\n",
       "    }\n",
       "</style>\n",
       "<table border=\"1\" class=\"dataframe\">\n",
       "  <thead>\n",
       "    <tr style=\"text-align: right;\">\n",
       "      <th></th>\n",
       "      <th>idhogar</th>\n",
       "      <th>dependency</th>\n",
       "      <th>edjefe</th>\n",
       "      <th>edjefa</th>\n",
       "    </tr>\n",
       "  </thead>\n",
       "  <tbody>\n",
       "    <tr>\n",
       "      <th>0</th>\n",
       "      <td>21eb7fcc1</td>\n",
       "      <td>no</td>\n",
       "      <td>10</td>\n",
       "      <td>no</td>\n",
       "    </tr>\n",
       "    <tr>\n",
       "      <th>1</th>\n",
       "      <td>0e5d7a658</td>\n",
       "      <td>8</td>\n",
       "      <td>12</td>\n",
       "      <td>no</td>\n",
       "    </tr>\n",
       "    <tr>\n",
       "      <th>2</th>\n",
       "      <td>2c7317ea8</td>\n",
       "      <td>8</td>\n",
       "      <td>no</td>\n",
       "      <td>11</td>\n",
       "    </tr>\n",
       "    <tr>\n",
       "      <th>3</th>\n",
       "      <td>2b58d945f</td>\n",
       "      <td>yes</td>\n",
       "      <td>11</td>\n",
       "      <td>no</td>\n",
       "    </tr>\n",
       "    <tr>\n",
       "      <th>4</th>\n",
       "      <td>2b58d945f</td>\n",
       "      <td>yes</td>\n",
       "      <td>11</td>\n",
       "      <td>no</td>\n",
       "    </tr>\n",
       "  </tbody>\n",
       "</table>\n",
       "</div>"
      ],
      "text/plain": [
       "     idhogar dependency edjefe edjefa\n",
       "0  21eb7fcc1         no     10     no\n",
       "1  0e5d7a658          8     12     no\n",
       "2  2c7317ea8          8     no     11\n",
       "3  2b58d945f        yes     11     no\n",
       "4  2b58d945f        yes     11     no"
      ]
     },
     "execution_count": 21,
     "metadata": {},
     "output_type": "execute_result"
    }
   ],
   "source": [
    "xTrain[string_column].head()"
   ]
  },
  {
   "cell_type": "code",
   "execution_count": 22,
   "metadata": {},
   "outputs": [],
   "source": [
    "xTrain.drop(['idhogar'], axis = 1, inplace = True)\n",
    "\n",
    "xTrain['dependency'].replace('no', 0, inplace = True)\n",
    "xTrain['edjefe'].replace('no', 0, inplace = True)\n",
    "xTrain['edjefa'].replace('no', 0, inplace = True)\n",
    "\n",
    "xTrain['dependency'].replace('yes', 1, inplace = True)\n",
    "xTrain['edjefe'].replace('yes', 1, inplace = True)\n",
    "xTrain['edjefa'].replace('yes', 1, inplace = True)"
   ]
  },
  {
   "cell_type": "code",
   "execution_count": 23,
   "metadata": {},
   "outputs": [
    {
     "data": {
      "text/html": [
       "<div>\n",
       "<style scoped>\n",
       "    .dataframe tbody tr th:only-of-type {\n",
       "        vertical-align: middle;\n",
       "    }\n",
       "\n",
       "    .dataframe tbody tr th {\n",
       "        vertical-align: top;\n",
       "    }\n",
       "\n",
       "    .dataframe thead th {\n",
       "        text-align: right;\n",
       "    }\n",
       "</style>\n",
       "<table border=\"1\" class=\"dataframe\">\n",
       "  <thead>\n",
       "    <tr style=\"text-align: right;\">\n",
       "      <th></th>\n",
       "      <th>dependency</th>\n",
       "      <th>edjefe</th>\n",
       "      <th>edjefa</th>\n",
       "    </tr>\n",
       "  </thead>\n",
       "  <tbody>\n",
       "    <tr>\n",
       "      <th>0</th>\n",
       "      <td>0</td>\n",
       "      <td>10</td>\n",
       "      <td>0</td>\n",
       "    </tr>\n",
       "    <tr>\n",
       "      <th>1</th>\n",
       "      <td>8</td>\n",
       "      <td>12</td>\n",
       "      <td>0</td>\n",
       "    </tr>\n",
       "    <tr>\n",
       "      <th>2</th>\n",
       "      <td>8</td>\n",
       "      <td>0</td>\n",
       "      <td>11</td>\n",
       "    </tr>\n",
       "    <tr>\n",
       "      <th>3</th>\n",
       "      <td>1</td>\n",
       "      <td>11</td>\n",
       "      <td>0</td>\n",
       "    </tr>\n",
       "    <tr>\n",
       "      <th>4</th>\n",
       "      <td>1</td>\n",
       "      <td>11</td>\n",
       "      <td>0</td>\n",
       "    </tr>\n",
       "  </tbody>\n",
       "</table>\n",
       "</div>"
      ],
      "text/plain": [
       "  dependency edjefe edjefa\n",
       "0          0     10      0\n",
       "1          8     12      0\n",
       "2          8      0     11\n",
       "3          1     11      0\n",
       "4          1     11      0"
      ]
     },
     "execution_count": 23,
     "metadata": {},
     "output_type": "execute_result"
    }
   ],
   "source": [
    "xTrain[['dependency','edjefe','edjefa']].head()"
   ]
  },
  {
   "cell_type": "code",
   "execution_count": 24,
   "metadata": {},
   "outputs": [
    {
     "data": {
      "text/plain": [
       "[]"
      ]
     },
     "execution_count": 24,
     "metadata": {},
     "output_type": "execute_result"
    }
   ],
   "source": [
    "xTrain[['dependency','edjefe','edjefa']] = xTrain[['dependency','edjefe','edjefa']].apply(pd.to_numeric)\n",
    "\n",
    "[f for f in xTrain.columns if xTrain.dtypes[f] == 'object']"
   ]
  },
  {
   "cell_type": "code",
   "execution_count": 25,
   "metadata": {},
   "outputs": [
    {
     "data": {
      "text/plain": [
       "(9557, 152)"
      ]
     },
     "execution_count": 25,
     "metadata": {},
     "output_type": "execute_result"
    }
   ],
   "source": [
    "xTrain.shape"
   ]
  },
  {
   "cell_type": "code",
   "execution_count": 26,
   "metadata": {},
   "outputs": [],
   "source": [
    "pd.options.mode.use_inf_as_na = True"
   ]
  },
  {
   "cell_type": "code",
   "execution_count": 27,
   "metadata": {},
   "outputs": [],
   "source": [
    "# labor force\n",
    "xTrain['adult'] = xTrain['hogar_adul'] - xTrain['hogar_mayor']\n",
    "xTrain['dependency_count'] = xTrain['hogar_nin'] + xTrain['hogar_mayor']\n",
    "xTrain['dependency2'] = xTrain['dependency_count'] / xTrain['adult']\n",
    "xTrain['child_percent'] = xTrain['hogar_nin']/xTrain['hogar_total']\n",
    "xTrain['elder_percent'] = xTrain['hogar_mayor']/xTrain['hogar_total']\n",
    "xTrain['adult_percent'] = xTrain['hogar_adul']/xTrain['hogar_total']"
   ]
  },
  {
   "cell_type": "code",
   "execution_count": 28,
   "metadata": {},
   "outputs": [],
   "source": [
    "xTrain['rent_per_adult'] = xTrain['v2a1']/xTrain['hogar_adul']\n",
    "xTrain['rent_per_person'] = xTrain['v2a1']/xTrain['hhsize']"
   ]
  },
  {
   "cell_type": "code",
   "execution_count": 29,
   "metadata": {},
   "outputs": [],
   "source": [
    "# male-female ratio\n",
    "xTrain['r4h1_percent_in_male'] = xTrain['r4h1'] / xTrain['r4h3']\n",
    "xTrain['r4m1_percent_in_female'] = xTrain['r4m1'] / xTrain['r4m3']\n",
    "xTrain['r4h1_percent_in_total'] = xTrain['r4h1'] / xTrain['hhsize']\n",
    "xTrain['r4m1_percent_in_total'] = xTrain['r4m1'] / xTrain['hhsize']\n",
    "xTrain['r4t1_percent_in_total'] = xTrain['r4t1'] / xTrain['hhsize']"
   ]
  },
  {
   "cell_type": "code",
   "execution_count": 30,
   "metadata": {},
   "outputs": [],
   "source": [
    "# per capito\n",
    "xTrain['rent_per_bedroom'] = xTrain['v2a1']/xTrain['bedrooms']\n",
    "xTrain['edler_per_bedroom'] = xTrain['hogar_mayor']/xTrain['bedrooms']\n",
    "xTrain['adults_per_bedroom'] = xTrain['adult']/xTrain['bedrooms']\n",
    "xTrain['child_per_bedroom'] = xTrain['hogar_nin']/xTrain['bedrooms']\n",
    "xTrain['male_per_bedroom'] = xTrain['r4h3']/xTrain['bedrooms']\n",
    "xTrain['female_per_bedroom'] = xTrain['r4m3']/xTrain['bedrooms']\n",
    "xTrain['bedrooms_per_person_household'] = xTrain['hhsize']/xTrain['bedrooms']"
   ]
  },
  {
   "cell_type": "code",
   "execution_count": 31,
   "metadata": {},
   "outputs": [
    {
     "data": {
      "text/plain": [
       "dependency2               369\n",
       "rent_per_adult              5\n",
       "r4h1_percent_in_male      628\n",
       "r4m1_percent_in_female    328\n",
       "dtype: int64"
      ]
     },
     "execution_count": 31,
     "metadata": {},
     "output_type": "execute_result"
    }
   ],
   "source": [
    "train_null = xTrain.isnull().sum()\n",
    "train_null[train_null != 0]"
   ]
  },
  {
   "cell_type": "code",
   "execution_count": 32,
   "metadata": {},
   "outputs": [],
   "source": [
    "# when there is no adult in the house, the result will be Nan\n",
    "xTrain[\"rent_per_adult\"] = xTrain[\"rent_per_adult\"].fillna(0)\n",
    "\n",
    "# similar to male/female ratio\n",
    "xTrain[\"r4h1_percent_in_male\"] = xTrain[\"r4h1_percent_in_male\"].fillna(0)\n",
    "xTrain[\"r4m1_percent_in_female\"] = xTrain[\"r4m1_percent_in_female\"].fillna(0)\n",
    "\n",
    "# when there is no adult in the household, the value will be inf. So, we should fill in some very large number \n",
    "xTrain.dependency2 = xTrain.dependency2.fillna(1e5)"
   ]
  },
  {
   "cell_type": "code",
   "execution_count": 35,
   "metadata": {},
   "outputs": [
    {
     "data": {
      "text/plain": [
       "Series([], dtype: int64)"
      ]
     },
     "execution_count": 35,
     "metadata": {},
     "output_type": "execute_result"
    }
   ],
   "source": [
    "train_null = xTrain.isnull().sum()\n",
    "train_null[train_null != 0]"
   ]
  },
  {
   "cell_type": "code",
   "execution_count": 36,
   "metadata": {},
   "outputs": [
    {
     "data": {
      "text/plain": [
       "[]"
      ]
     },
     "execution_count": 36,
     "metadata": {},
     "output_type": "execute_result"
    }
   ],
   "source": [
    "[f for f in xTrain.columns if xTrain.dtypes[f] == 'object']"
   ]
  },
  {
   "cell_type": "code",
   "execution_count": 37,
   "metadata": {},
   "outputs": [
    {
     "data": {
      "text/plain": [
       "(9557, 172)"
      ]
     },
     "execution_count": 37,
     "metadata": {},
     "output_type": "execute_result"
    }
   ],
   "source": [
    "xTrain.shape"
   ]
  },
  {
   "cell_type": "code",
   "execution_count": 38,
   "metadata": {},
   "outputs": [],
   "source": [
    "from sklearn.model_selection import train_test_split"
   ]
  },
  {
   "cell_type": "code",
   "execution_count": 39,
   "metadata": {},
   "outputs": [
    {
     "data": {
      "text/plain": [
       "((8123, 172), (8123,), (1434, 172), (1434,))"
      ]
     },
     "execution_count": 39,
     "metadata": {},
     "output_type": "execute_result"
    }
   ],
   "source": [
    "x_train, x_val, y_train, y_val = train_test_split(xTrain, yTrain,stratify=yTrain, test_size = 0.15, random_state = 2, shuffle=True)\n",
    "x_train.shape, y_train.shape, x_val.shape, y_val.shape"
   ]
  },
  {
   "cell_type": "code",
   "execution_count": 40,
   "metadata": {},
   "outputs": [],
   "source": [
    "import sys, os\n",
    "sys.path.append(os.pardir)  # parent directory \n",
    "from Utils.Multification_NN import *"
   ]
  },
  {
   "cell_type": "code",
   "execution_count": 41,
   "metadata": {},
   "outputs": [
    {
     "data": {
      "text/plain": [
       "(5, 8123)"
      ]
     },
     "execution_count": 41,
     "metadata": {},
     "output_type": "execute_result"
    }
   ],
   "source": [
    "Y_train = convert_to_one_hot(np.array(y_train), 5)\n",
    "Y_train.shape"
   ]
  },
  {
   "cell_type": "code",
   "execution_count": 42,
   "metadata": {},
   "outputs": [
    {
     "data": {
      "text/plain": [
       "(172, 8123)"
      ]
     },
     "execution_count": 42,
     "metadata": {},
     "output_type": "execute_result"
    }
   ],
   "source": [
    "X_train = x_train.T\n",
    "X_train.shape"
   ]
  },
  {
   "cell_type": "code",
   "execution_count": 43,
   "metadata": {},
   "outputs": [
    {
     "data": {
      "text/plain": [
       "((5, 1434), (172, 1434))"
      ]
     },
     "execution_count": 43,
     "metadata": {},
     "output_type": "execute_result"
    }
   ],
   "source": [
    "Y_val = convert_to_one_hot(np.array(y_val), 5)\n",
    "X_val = x_val.T\n",
    "Y_val.shape, X_val.shape"
   ]
  },
  {
   "cell_type": "code",
   "execution_count": 44,
   "metadata": {},
   "outputs": [
    {
     "data": {
      "text/plain": [
       "(0.2, 0.2)"
      ]
     },
     "execution_count": 44,
     "metadata": {},
     "output_type": "execute_result"
    }
   ],
   "source": [
    "Y_train.mean(), Y_val.mean()"
   ]
  },
  {
   "cell_type": "markdown",
   "metadata": {},
   "source": [
    "# Training Neural Network Module"
   ]
  },
  {
   "cell_type": "code",
   "execution_count": 45,
   "metadata": {},
   "outputs": [
    {
     "data": {
      "text/plain": [
       "[172, 200, 200, 100, 5]"
      ]
     },
     "execution_count": 45,
     "metadata": {},
     "output_type": "execute_result"
    }
   ],
   "source": [
    "### CONSTANTS DEFINING THE MODEL ####\n",
    "n_x = X_train.shape[0]\n",
    "n_h1 = 200  # hyper parameter\n",
    "n_h2 = 200  # hyper parameter\n",
    "n_h3 = 100  # hyper parameter\n",
    "n_y = Y_train.shape[0]\n",
    "layers_dims = [n_x, n_h1, n_h2, n_h3, n_y]\n",
    "layers_dims"
   ]
  },
  {
   "cell_type": "code",
   "execution_count": 48,
   "metadata": {
    "scrolled": true
   },
   "outputs": [
    {
     "name": "stdout",
     "output_type": "stream",
     "text": [
      "Cost after epoch 0: 305.058369\n",
      "Cost after epoch 100: 0.743039\n",
      "Cost after epoch 200: 0.711185\n",
      "Cost after epoch 300: 0.653392\n",
      "Cost after epoch 400: 0.643338\n",
      "Cost after epoch 500: 0.593690\n",
      "Cost after epoch 600: 0.581654\n",
      "Cost after epoch 700: 0.583279\n",
      "Cost after epoch 800: 0.592613\n",
      "Cost after epoch 900: 0.584582\n",
      "Cost after epoch 1000: 0.573019\n",
      "Cost after epoch 1100: 0.590653\n",
      "Cost after epoch 1200: 0.551447\n",
      "Cost after epoch 1300: 0.541190\n",
      "Cost after epoch 1400: 0.552314\n"
     ]
    },
    {
     "data": {
      "image/png": "[encoded data removed]",
      "text/plain": [
       "<Figure size 432x288 with 1 Axes>"
      ]
     },
     "metadata": {
      "needs_background": "light"
     },
     "output_type": "display_data"
    },
    {
     "name": "stdout",
     "output_type": "stream",
     "text": [
      "Parameters have been trained!\n",
      "Train Accuracy: 0.79822725\n",
      "Test Accuracy: 0.7189679\n"
     ]
    }
   ],
   "source": [
    "parameters = model(layers_dims, X_train, Y_train, X_val, Y_val, learning_rate = 0.001, reg = 0, num_epochs = 1500)"
   ]
  },
  {
   "cell_type": "markdown",
   "metadata": {},
   "source": [
    "# Prediction Module"
   ]
  },
  {
   "cell_type": "code",
   "execution_count": 49,
   "metadata": {},
   "outputs": [],
   "source": [
    "xTest = test.drop(['Id'], axis=1)"
   ]
  },
  {
   "cell_type": "code",
   "execution_count": 50,
   "metadata": {},
   "outputs": [
    {
     "data": {
      "text/plain": [
       "v2a1         17403\n",
       "v18q1        18126\n",
       "rez_esc      19653\n",
       "meaneduc        31\n",
       "SQBmeaned       31\n",
       "dtype: int64"
      ]
     },
     "execution_count": 50,
     "metadata": {},
     "output_type": "execute_result"
    }
   ],
   "source": [
    "test_null = xTest.isnull().sum()\n",
    "test_null[test_null != 0]"
   ]
  },
  {
   "cell_type": "code",
   "execution_count": 51,
   "metadata": {},
   "outputs": [],
   "source": [
    "xTest[\"v18q1\"] = xTest[\"v18q1\"].fillna(0)"
   ]
  },
  {
   "cell_type": "code",
   "execution_count": 52,
   "metadata": {},
   "outputs": [
    {
     "data": {
      "text/plain": [
       "0"
      ]
     },
     "execution_count": 52,
     "metadata": {},
     "output_type": "execute_result"
    }
   ],
   "source": [
    "xTest.loc[((xTest['age'] > 19) | (xTest['age'] < 7)) & (xTest['rez_esc'].isnull()), 'rez_esc'] = 0\n",
    "xTest.rez_esc.fillna(xTest.rez_esc.mean(), inplace=True)\n",
    "\n",
    "xTest.rez_esc.isnull().sum()"
   ]
  },
  {
   "cell_type": "code",
   "execution_count": 53,
   "metadata": {},
   "outputs": [],
   "source": [
    "# Fill in households that own the house with 0 rent payment\n",
    "xTest.loc[(xTest['tipovivi1'] == 1), 'v2a1'] = 0\n",
    "xTest[\"v2a1\"].fillna(xTest[\"v2a1\"].mean(), inplace=True)\n",
    "xTest[\"meaneduc\"].fillna(xTest[\"meaneduc\"].mean(), inplace=True)\n",
    "xTest[\"SQBmeaned\"].fillna(xTest[\"SQBmeaned\"].mean(), inplace=True)"
   ]
  },
  {
   "cell_type": "code",
   "execution_count": 54,
   "metadata": {},
   "outputs": [],
   "source": [
    "# Difference between people living in house and household size\n",
    "xTest['hhsize-diff'] = xTest['tamviv'] - xTest['hhsize']"
   ]
  },
  {
   "cell_type": "code",
   "execution_count": 55,
   "metadata": {},
   "outputs": [],
   "source": [
    "xTest['walls'] = np.argmax(np.array(xTest[['epared1', 'epared2', 'epared3']]), axis = 1)\n",
    "\n",
    "# Roof ordinal variable\n",
    "xTest['roof'] = np.argmax(np.array(xTest[['etecho1', 'etecho2', 'etecho3']]), axis = 1)\n",
    "\n",
    "# Floor ordinal variable\n",
    "xTest['floor'] = np.argmax(np.array(xTest[['eviv1', 'eviv2', 'eviv3']]), axis = 1)\n",
    "\n",
    "# Create new feature\n",
    "xTest['walls+roof+floor'] = xTest['walls'] + xTest['roof'] + xTest['floor']"
   ]
  },
  {
   "cell_type": "code",
   "execution_count": 56,
   "metadata": {},
   "outputs": [],
   "source": [
    "# No toilet, no electricity, no floor, no water service, no ceiling\n",
    "xTest['warning'] = 1 * (xTest['sanitario1'] + \n",
    "                         xTest['noelec'] + \n",
    "                         xTest['pisonotiene'] + \n",
    "                         xTest['abastaguano'] + \n",
    "                         (xTest['cielorazo'] == 0))"
   ]
  },
  {
   "cell_type": "code",
   "execution_count": 57,
   "metadata": {},
   "outputs": [],
   "source": [
    "# Owns a refrigerator, computer, tablet, and television\n",
    "xTest['bonus'] = 1 * (xTest['refrig'] + \n",
    "                      xTest['computer'] + \n",
    "                      (xTest['v18q1'] > 0) + \n",
    "                      xTest['television'])"
   ]
  },
  {
   "cell_type": "code",
   "execution_count": 58,
   "metadata": {},
   "outputs": [],
   "source": [
    "# Per capita features\n",
    "xTest['phones-per-capita'] = xTest['qmobilephone'] / xTest['tamviv']\n",
    "xTest['tablets-per-capita'] = xTest['v18q1'] / xTest['tamviv']\n",
    "xTest['rooms-per-capita'] = xTest['rooms'] / xTest['tamviv']\n",
    "xTest['rent-per-capita'] = xTest['v2a1'] / xTest['tamviv']"
   ]
  },
  {
   "cell_type": "code",
   "execution_count": 59,
   "metadata": {},
   "outputs": [],
   "source": [
    "xTest['tech'] = xTest['v18q'] + xTest['mobilephone']"
   ]
  },
  {
   "cell_type": "code",
   "execution_count": 60,
   "metadata": {},
   "outputs": [
    {
     "data": {
      "text/plain": [
       "Series([], dtype: int64)"
      ]
     },
     "execution_count": 60,
     "metadata": {},
     "output_type": "execute_result"
    }
   ],
   "source": [
    "test_null = xTest.isnull().sum()\n",
    "test_null[test_null != 0]"
   ]
  },
  {
   "cell_type": "code",
   "execution_count": 62,
   "metadata": {},
   "outputs": [],
   "source": [
    "xTest = xTest.drop(['idhogar'], axis = 1)\n",
    "\n",
    "xTest['dependency'].replace('no', 0, inplace = True)\n",
    "xTest['edjefe'].replace('no', 0, inplace = True)\n",
    "xTest['edjefa'].replace('no', 0, inplace = True)\n",
    "\n",
    "xTest['dependency'].replace('yes', 1, inplace = True)\n",
    "xTest['edjefe'].replace('yes', 1, inplace = True)\n",
    "xTest['edjefa'].replace('yes', 1, inplace = True)"
   ]
  },
  {
   "cell_type": "code",
   "execution_count": 63,
   "metadata": {},
   "outputs": [
    {
     "data": {
      "text/plain": [
       "[]"
      ]
     },
     "execution_count": 63,
     "metadata": {},
     "output_type": "execute_result"
    }
   ],
   "source": [
    "xTest[['dependency','edjefe','edjefa']] = xTest[['dependency','edjefe','edjefa']].apply(pd.to_numeric)\n",
    "\n",
    "[f for f in xTest.columns if xTest.dtypes[f] == 'object']"
   ]
  },
  {
   "cell_type": "code",
   "execution_count": 64,
   "metadata": {},
   "outputs": [],
   "source": [
    "# labor force\n",
    "xTest['adult'] = xTest['hogar_adul'] - xTest['hogar_mayor']\n",
    "xTest['dependency_count'] = xTest['hogar_nin'] + xTest['hogar_mayor']\n",
    "xTest['dependency2'] = xTest['dependency_count'] / xTest['adult']\n",
    "xTest['child_percent'] = xTest['hogar_nin']/xTest['hogar_total']\n",
    "xTest['elder_percent'] = xTest['hogar_mayor']/xTest['hogar_total']\n",
    "xTest['adult_percent'] = xTest['hogar_adul']/xTest['hogar_total']"
   ]
  },
  {
   "cell_type": "code",
   "execution_count": 65,
   "metadata": {},
   "outputs": [],
   "source": [
    "xTest['rent_per_adult'] = xTest['v2a1']/xTest['hogar_adul']\n",
    "xTest['rent_per_person'] = xTest['v2a1']/xTest['hhsize']"
   ]
  },
  {
   "cell_type": "code",
   "execution_count": 66,
   "metadata": {},
   "outputs": [],
   "source": [
    "# male-female ratio\n",
    "xTest['r4h1_percent_in_male'] = xTest['r4h1'] / xTest['r4h3']\n",
    "xTest['r4m1_percent_in_female'] = xTest['r4m1'] / xTest['r4m3']\n",
    "xTest['r4h1_percent_in_total'] = xTest['r4h1'] / xTest['hhsize']\n",
    "xTest['r4m1_percent_in_total'] = xTest['r4m1'] / xTest['hhsize']\n",
    "xTest['r4t1_percent_in_total'] = xTest['r4t1'] /xTest['hhsize']"
   ]
  },
  {
   "cell_type": "code",
   "execution_count": 67,
   "metadata": {},
   "outputs": [],
   "source": [
    "# per capito\n",
    "xTest['rent_per_bedroom'] = xTest['v2a1']/xTest['bedrooms']\n",
    "xTest['edler_per_bedroom'] = xTest['hogar_mayor']/xTest['bedrooms']\n",
    "xTest['adults_per_bedroom'] = xTest['adult']/xTest['bedrooms']\n",
    "xTest['child_per_bedroom'] = xTest['hogar_nin']/xTest['bedrooms']\n",
    "xTest['male_per_bedroom'] = xTest['r4h3']/xTest['bedrooms']\n",
    "xTest['female_per_bedroom'] = xTest['r4m3']/xTest['bedrooms']\n",
    "xTest['bedrooms_per_person_household'] = xTest['hhsize']/xTest['bedrooms']"
   ]
  },
  {
   "cell_type": "code",
   "execution_count": 68,
   "metadata": {},
   "outputs": [],
   "source": [
    "# when there is no adult in the house, the result will be Nan\n",
    "xTest[\"rent_per_adult\"] = xTest[\"rent_per_adult\"].fillna(0)\n",
    "\n",
    "# similar to male/female ratio\n",
    "xTest[\"r4h1_percent_in_male\"] = xTest[\"r4h1_percent_in_male\"].fillna(0)\n",
    "xTest[\"r4m1_percent_in_female\"] = xTest[\"r4m1_percent_in_female\"].fillna(0)\n",
    "\n",
    "# when there is no adult in the household, the value will be inf. So, we should fill in some very large number \n",
    "xTest.dependency2 = xTest.dependency2.fillna(1e5)"
   ]
  },
  {
   "cell_type": "code",
   "execution_count": 69,
   "metadata": {},
   "outputs": [
    {
     "data": {
      "text/plain": [
       "Series([], dtype: int64)"
      ]
     },
     "execution_count": 69,
     "metadata": {},
     "output_type": "execute_result"
    }
   ],
   "source": [
    "test_null = xTest.isnull().sum()\n",
    "test_null[test_null != 0]"
   ]
  },
  {
   "cell_type": "code",
   "execution_count": 70,
   "metadata": {},
   "outputs": [
    {
     "data": {
      "text/plain": [
       "(172, 23856)"
      ]
     },
     "execution_count": 70,
     "metadata": {},
     "output_type": "execute_result"
    }
   ],
   "source": [
    "X_test = xTest.T\n",
    "X_test.shape"
   ]
  },
  {
   "cell_type": "code",
   "execution_count": 71,
   "metadata": {},
   "outputs": [],
   "source": [
    "prediction = predict(X_test, parameters)\n",
    "pd.Series(prediction).value_counts()"
   ]
  },
  {
   "cell_type": "code",
   "execution_count": 73,
   "metadata": {},
   "outputs": [],
   "source": [
    "prediction[prediction==0] = 1"
   ]
  },
  {
   "cell_type": "code",
   "execution_count": 74,
   "metadata": {},
   "outputs": [
    {
     "data": {
      "text/plain": [
       "4    19436\n",
       "2     2510\n",
       "3     1191\n",
       "1      719\n",
       "dtype: int64"
      ]
     },
     "execution_count": 74,
     "metadata": {},
     "output_type": "execute_result"
    }
   ],
   "source": [
    "pd.Series(prediction).value_counts()"
   ]
  },
  {
   "cell_type": "code",
   "execution_count": null,
   "metadata": {},
   "outputs": [],
   "source": [
    "test['Target'] = prediction\n",
    "df2 = pd.DataFrame({'Id':test['Id'],'Target':test.Target})\n",
    "df2.to_csv(\"submission.csv\",index=False)"
   ]
  },
  {
   "cell_type": "code",
   "execution_count": null,
   "metadata": {},
   "outputs": [],
   "source": []
  }
 ],
 "metadata": {
  "kernelspec": {
   "display_name": "Python 3",
   "language": "python",
   "name": "python3"
  },
  "language_info": {
   "codemirror_mode": {
    "name": "ipython",
    "version": 3
   },
   "file_extension": ".py",
   "mimetype": "text/x-python",
   "name": "python",
   "nbconvert_exporter": "python",
   "pygments_lexer": "ipython3",
   "version": "3.7.1"
  }
 },
 "nbformat": 4,
 "nbformat_minor": 2
}
