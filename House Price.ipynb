{
 "cells": [
  {
   "cell_type": "markdown",
   "metadata": {},
   "source": [
    "# pair work\n",
    "# Songyang Cheng\n",
    "# Yuanhang Wang"
   ]
  },
  {
   "cell_type": "code",
   "execution_count": 1,
   "metadata": {},
   "outputs": [],
   "source": [
    "import numpy as np\n",
    "import pandas as pd\n",
    "import matplotlib.pyplot as plt"
   ]
  },
  {
   "cell_type": "code",
   "execution_count": 2,
   "metadata": {},
   "outputs": [],
   "source": [
    "train_df = pd.read_csv(\"train.csv\")"
   ]
  },
  {
   "cell_type": "code",
   "execution_count": 3,
   "metadata": {},
   "outputs": [
    {
     "data": {
      "text/plain": [
       "Id                  0\n",
       "MSSubClass          0\n",
       "MSZoning            0\n",
       "LotFrontage       259\n",
       "LotArea             0\n",
       "Street              0\n",
       "Alley            1369\n",
       "LotShape            0\n",
       "LandContour         0\n",
       "Utilities           0\n",
       "LotConfig           0\n",
       "LandSlope           0\n",
       "Neighborhood        0\n",
       "Condition1          0\n",
       "Condition2          0\n",
       "BldgType            0\n",
       "HouseStyle          0\n",
       "OverallQual         0\n",
       "OverallCond         0\n",
       "YearBuilt           0\n",
       "YearRemodAdd        0\n",
       "RoofStyle           0\n",
       "RoofMatl            0\n",
       "Exterior1st         0\n",
       "Exterior2nd         0\n",
       "MasVnrType          8\n",
       "MasVnrArea          8\n",
       "ExterQual           0\n",
       "ExterCond           0\n",
       "Foundation          0\n",
       "                 ... \n",
       "BedroomAbvGr        0\n",
       "KitchenAbvGr        0\n",
       "KitchenQual         0\n",
       "TotRmsAbvGrd        0\n",
       "Functional          0\n",
       "Fireplaces          0\n",
       "FireplaceQu       690\n",
       "GarageType         81\n",
       "GarageYrBlt        81\n",
       "GarageFinish       81\n",
       "GarageCars          0\n",
       "GarageArea          0\n",
       "GarageQual         81\n",
       "GarageCond         81\n",
       "PavedDrive          0\n",
       "WoodDeckSF          0\n",
       "OpenPorchSF         0\n",
       "EnclosedPorch       0\n",
       "3SsnPorch           0\n",
       "ScreenPorch         0\n",
       "PoolArea            0\n",
       "PoolQC           1453\n",
       "Fence            1179\n",
       "MiscFeature      1406\n",
       "MiscVal             0\n",
       "MoSold              0\n",
       "YrSold              0\n",
       "SaleType            0\n",
       "SaleCondition       0\n",
       "SalePrice           0\n",
       "Length: 81, dtype: int64"
      ]
     },
     "execution_count": 3,
     "metadata": {},
     "output_type": "execute_result"
    }
   ],
   "source": [
    "train_df.isnull().sum()"
   ]
  },
  {
   "cell_type": "code",
   "execution_count": 4,
   "metadata": {},
   "outputs": [
    {
     "data": {
      "text/html": [
       "<div>\n",
       "<style scoped>\n",
       "    .dataframe tbody tr th:only-of-type {\n",
       "        vertical-align: middle;\n",
       "    }\n",
       "\n",
       "    .dataframe tbody tr th {\n",
       "        vertical-align: top;\n",
       "    }\n",
       "\n",
       "    .dataframe thead th {\n",
       "        text-align: right;\n",
       "    }\n",
       "</style>\n",
       "<table border=\"1\" class=\"dataframe\">\n",
       "  <thead>\n",
       "    <tr style=\"text-align: right;\">\n",
       "      <th>SalePrice</th>\n",
       "      <th>34900</th>\n",
       "      <th>35311</th>\n",
       "      <th>37900</th>\n",
       "      <th>39300</th>\n",
       "      <th>40000</th>\n",
       "      <th>52000</th>\n",
       "      <th>52500</th>\n",
       "      <th>55000</th>\n",
       "      <th>55993</th>\n",
       "      <th>58500</th>\n",
       "      <th>...</th>\n",
       "      <th>485000</th>\n",
       "      <th>501837</th>\n",
       "      <th>538000</th>\n",
       "      <th>555000</th>\n",
       "      <th>556581</th>\n",
       "      <th>582933</th>\n",
       "      <th>611657</th>\n",
       "      <th>625000</th>\n",
       "      <th>745000</th>\n",
       "      <th>755000</th>\n",
       "    </tr>\n",
       "    <tr>\n",
       "      <th>SaleCondition</th>\n",
       "      <th></th>\n",
       "      <th></th>\n",
       "      <th></th>\n",
       "      <th></th>\n",
       "      <th></th>\n",
       "      <th></th>\n",
       "      <th></th>\n",
       "      <th></th>\n",
       "      <th></th>\n",
       "      <th></th>\n",
       "      <th></th>\n",
       "      <th></th>\n",
       "      <th></th>\n",
       "      <th></th>\n",
       "      <th></th>\n",
       "      <th></th>\n",
       "      <th></th>\n",
       "      <th></th>\n",
       "      <th></th>\n",
       "      <th></th>\n",
       "      <th></th>\n",
       "    </tr>\n",
       "  </thead>\n",
       "  <tbody>\n",
       "    <tr>\n",
       "      <th>Abnorml</th>\n",
       "      <td>1</td>\n",
       "      <td>1</td>\n",
       "      <td>1</td>\n",
       "      <td>0</td>\n",
       "      <td>0</td>\n",
       "      <td>0</td>\n",
       "      <td>0</td>\n",
       "      <td>0</td>\n",
       "      <td>0</td>\n",
       "      <td>0</td>\n",
       "      <td>...</td>\n",
       "      <td>0</td>\n",
       "      <td>0</td>\n",
       "      <td>0</td>\n",
       "      <td>0</td>\n",
       "      <td>0</td>\n",
       "      <td>0</td>\n",
       "      <td>0</td>\n",
       "      <td>0</td>\n",
       "      <td>1</td>\n",
       "      <td>0</td>\n",
       "    </tr>\n",
       "    <tr>\n",
       "      <th>AdjLand</th>\n",
       "      <td>0</td>\n",
       "      <td>0</td>\n",
       "      <td>0</td>\n",
       "      <td>0</td>\n",
       "      <td>0</td>\n",
       "      <td>0</td>\n",
       "      <td>0</td>\n",
       "      <td>0</td>\n",
       "      <td>0</td>\n",
       "      <td>0</td>\n",
       "      <td>...</td>\n",
       "      <td>0</td>\n",
       "      <td>0</td>\n",
       "      <td>0</td>\n",
       "      <td>0</td>\n",
       "      <td>0</td>\n",
       "      <td>0</td>\n",
       "      <td>0</td>\n",
       "      <td>0</td>\n",
       "      <td>0</td>\n",
       "      <td>0</td>\n",
       "    </tr>\n",
       "    <tr>\n",
       "      <th>Alloca</th>\n",
       "      <td>0</td>\n",
       "      <td>0</td>\n",
       "      <td>0</td>\n",
       "      <td>0</td>\n",
       "      <td>0</td>\n",
       "      <td>0</td>\n",
       "      <td>0</td>\n",
       "      <td>0</td>\n",
       "      <td>1</td>\n",
       "      <td>0</td>\n",
       "      <td>...</td>\n",
       "      <td>0</td>\n",
       "      <td>0</td>\n",
       "      <td>0</td>\n",
       "      <td>0</td>\n",
       "      <td>0</td>\n",
       "      <td>0</td>\n",
       "      <td>0</td>\n",
       "      <td>0</td>\n",
       "      <td>0</td>\n",
       "      <td>0</td>\n",
       "    </tr>\n",
       "    <tr>\n",
       "      <th>Family</th>\n",
       "      <td>0</td>\n",
       "      <td>0</td>\n",
       "      <td>0</td>\n",
       "      <td>0</td>\n",
       "      <td>0</td>\n",
       "      <td>0</td>\n",
       "      <td>0</td>\n",
       "      <td>0</td>\n",
       "      <td>0</td>\n",
       "      <td>0</td>\n",
       "      <td>...</td>\n",
       "      <td>0</td>\n",
       "      <td>0</td>\n",
       "      <td>0</td>\n",
       "      <td>0</td>\n",
       "      <td>0</td>\n",
       "      <td>0</td>\n",
       "      <td>0</td>\n",
       "      <td>0</td>\n",
       "      <td>0</td>\n",
       "      <td>0</td>\n",
       "    </tr>\n",
       "    <tr>\n",
       "      <th>Normal</th>\n",
       "      <td>0</td>\n",
       "      <td>0</td>\n",
       "      <td>0</td>\n",
       "      <td>1</td>\n",
       "      <td>1</td>\n",
       "      <td>1</td>\n",
       "      <td>1</td>\n",
       "      <td>2</td>\n",
       "      <td>0</td>\n",
       "      <td>1</td>\n",
       "      <td>...</td>\n",
       "      <td>0</td>\n",
       "      <td>0</td>\n",
       "      <td>1</td>\n",
       "      <td>1</td>\n",
       "      <td>0</td>\n",
       "      <td>0</td>\n",
       "      <td>0</td>\n",
       "      <td>1</td>\n",
       "      <td>0</td>\n",
       "      <td>1</td>\n",
       "    </tr>\n",
       "    <tr>\n",
       "      <th>Partial</th>\n",
       "      <td>0</td>\n",
       "      <td>0</td>\n",
       "      <td>0</td>\n",
       "      <td>0</td>\n",
       "      <td>0</td>\n",
       "      <td>0</td>\n",
       "      <td>0</td>\n",
       "      <td>0</td>\n",
       "      <td>0</td>\n",
       "      <td>0</td>\n",
       "      <td>...</td>\n",
       "      <td>1</td>\n",
       "      <td>1</td>\n",
       "      <td>0</td>\n",
       "      <td>0</td>\n",
       "      <td>1</td>\n",
       "      <td>1</td>\n",
       "      <td>1</td>\n",
       "      <td>0</td>\n",
       "      <td>0</td>\n",
       "      <td>0</td>\n",
       "    </tr>\n",
       "  </tbody>\n",
       "</table>\n",
       "<p>6 rows × 663 columns</p>\n",
       "</div>"
      ],
      "text/plain": [
       "SalePrice      34900   35311   37900   39300   40000   52000   52500   55000   \\\n",
       "SaleCondition                                                                   \n",
       "Abnorml             1       1       1       0       0       0       0       0   \n",
       "AdjLand             0       0       0       0       0       0       0       0   \n",
       "Alloca              0       0       0       0       0       0       0       0   \n",
       "Family              0       0       0       0       0       0       0       0   \n",
       "Normal              0       0       0       1       1       1       1       2   \n",
       "Partial             0       0       0       0       0       0       0       0   \n",
       "\n",
       "SalePrice      55993   58500    ...    485000  501837  538000  555000  556581  \\\n",
       "SaleCondition                   ...                                             \n",
       "Abnorml             0       0   ...         0       0       0       0       0   \n",
       "AdjLand             0       0   ...         0       0       0       0       0   \n",
       "Alloca              1       0   ...         0       0       0       0       0   \n",
       "Family              0       0   ...         0       0       0       0       0   \n",
       "Normal              0       1   ...         0       0       1       1       0   \n",
       "Partial             0       0   ...         1       1       0       0       1   \n",
       "\n",
       "SalePrice      582933  611657  625000  745000  755000  \n",
       "SaleCondition                                          \n",
       "Abnorml             0       0       0       1       0  \n",
       "AdjLand             0       0       0       0       0  \n",
       "Alloca              0       0       0       0       0  \n",
       "Family              0       0       0       0       0  \n",
       "Normal              0       0       1       0       1  \n",
       "Partial             1       1       0       0       0  \n",
       "\n",
       "[6 rows x 663 columns]"
      ]
     },
     "execution_count": 4,
     "metadata": {},
     "output_type": "execute_result"
    }
   ],
   "source": [
    "pd.crosstab(train_df['SaleCondition'],train_df['SalePrice'])"
   ]
  },
  {
   "cell_type": "markdown",
   "metadata": {},
   "source": [
    "选择的column:\n",
    "LotArea  log2(LotArea)\n",
    "LotShape Merge IR1,IR2,IR3 into IR\n",
    "Neighborhood classification\n",
    "             tier1: \"CollgCr\", \"Veenker\"\n",
    "             tier2: \"Crawfor\", \"NoRidge\", \"Mitchel\", \"Somerst\", \"NWAmes\"\n",
    "             tier3: \"OldTown\", \"Brkside\", \"Sawyer\", \"NridgHt\", \"NAmes\", \"SawyerW\", \"IDOTRR\", \"MeadowV\"\n",
    "             tier4: \"Edwards\", \"Timber\", \"Gilbert\", \"StoneBr\", \"ClearCr\"\n",
    "             tier5: \"NPkVill\",\"Blmngton\",\"BrDale\",\"SWISU\", \"Blueste\"\n",
    "HouseStyle       Floor2: 2STory, 2.5Fin\n",
    "             Floor1.5: 1.5Fin, 1.5Unf, SFoyer, 2.5Unf\n",
    "             Floor1: SLvl, 1story\n",
    "OverallQual  1,2,3 -> 3\n",
    "YearRemodAdd 10 year as 1 group \n",
    "ExterQual    TA=Fa+TA, Gd=Ex+Gd\n",
    "HeatingQC    Bad=Fa+TA\n",
    "CentralAir   \n",
    "Electrical   Fuse = FuseP, FuseA, FuseF, Mix \n",
    "GrLivArea    \n",
    "TotRmsAbvGrd 4 = 2,3,4; 10 = 10,11,12\n",
    "Fireplaces   2 = 2,3\n",
    "GarageType   detached = detached, basment, 2types, carport. Fill Na as noGarage\n",
    "GarageArea   qcut 10"
   ]
  },
  {
   "cell_type": "code",
   "execution_count": 5,
   "metadata": {},
   "outputs": [
    {
     "data": {
      "text/plain": [
       "(array([148., 723., 373., 135.,  51.,  19.,   4.,   3.,   2.,   2.]),\n",
       " array([ 34900., 106910., 178920., 250930., 322940., 394950., 466960.,\n",
       "        538970., 610980., 682990., 755000.]),\n",
       " <a list of 10 Patch objects>)"
      ]
     },
     "execution_count": 5,
     "metadata": {},
     "output_type": "execute_result"
    },
    {
     "data": {
      "image/png": "[encoded data removed]",
      "text/plain": [
       "<Figure size 432x288 with 1 Axes>"
      ]
     },
     "metadata": {
      "needs_background": "light"
     },
     "output_type": "display_data"
    }
   ],
   "source": [
    "plt.hist(train_df.SalePrice)"
   ]
  },
  {
   "cell_type": "code",
   "execution_count": 6,
   "metadata": {},
   "outputs": [],
   "source": [
    "train_df['SalePriceBin'] = pd.qcut(train_df.SalePrice,5)"
   ]
  },
  {
   "cell_type": "code",
   "execution_count": 7,
   "metadata": {},
   "outputs": [
    {
     "data": {
      "text/plain": [
       "0    (179280.0, 230000.0]\n",
       "1    (179280.0, 230000.0]\n",
       "2    (179280.0, 230000.0]\n",
       "3    (124000.0, 147000.0]\n",
       "4    (230000.0, 755000.0]\n",
       "Name: SalePriceBin, dtype: category\n",
       "Categories (5, interval[float64]): [(34899.999, 124000.0] < (124000.0, 147000.0] < (147000.0, 179280.0] < (179280.0, 230000.0] < (230000.0, 755000.0]]"
      ]
     },
     "execution_count": 7,
     "metadata": {},
     "output_type": "execute_result"
    }
   ],
   "source": [
    "train_df['SalePriceBin'].head()"
   ]
  },
  {
   "cell_type": "code",
   "execution_count": 8,
   "metadata": {},
   "outputs": [
    {
     "data": {
      "text/html": [
       "<div>\n",
       "<style scoped>\n",
       "    .dataframe tbody tr th:only-of-type {\n",
       "        vertical-align: middle;\n",
       "    }\n",
       "\n",
       "    .dataframe tbody tr th {\n",
       "        vertical-align: top;\n",
       "    }\n",
       "\n",
       "    .dataframe thead th {\n",
       "        text-align: right;\n",
       "    }\n",
       "</style>\n",
       "<table border=\"1\" class=\"dataframe\">\n",
       "  <thead>\n",
       "    <tr style=\"text-align: right;\">\n",
       "      <th>SalePriceBin</th>\n",
       "      <th>(34899.999, 124000.0]</th>\n",
       "      <th>(124000.0, 147000.0]</th>\n",
       "      <th>(147000.0, 179280.0]</th>\n",
       "      <th>(179280.0, 230000.0]</th>\n",
       "      <th>(230000.0, 755000.0]</th>\n",
       "    </tr>\n",
       "    <tr>\n",
       "      <th>SaleCondition</th>\n",
       "      <th></th>\n",
       "      <th></th>\n",
       "      <th></th>\n",
       "      <th></th>\n",
       "      <th></th>\n",
       "    </tr>\n",
       "  </thead>\n",
       "  <tbody>\n",
       "    <tr>\n",
       "      <th>Abnorml</th>\n",
       "      <td>45</td>\n",
       "      <td>20</td>\n",
       "      <td>15</td>\n",
       "      <td>12</td>\n",
       "      <td>9</td>\n",
       "    </tr>\n",
       "    <tr>\n",
       "      <th>AdjLand</th>\n",
       "      <td>2</td>\n",
       "      <td>2</td>\n",
       "      <td>0</td>\n",
       "      <td>0</td>\n",
       "      <td>0</td>\n",
       "    </tr>\n",
       "    <tr>\n",
       "      <th>Alloca</th>\n",
       "      <td>5</td>\n",
       "      <td>1</td>\n",
       "      <td>2</td>\n",
       "      <td>2</td>\n",
       "      <td>2</td>\n",
       "    </tr>\n",
       "    <tr>\n",
       "      <th>Family</th>\n",
       "      <td>6</td>\n",
       "      <td>5</td>\n",
       "      <td>5</td>\n",
       "      <td>2</td>\n",
       "      <td>2</td>\n",
       "    </tr>\n",
       "    <tr>\n",
       "      <th>Normal</th>\n",
       "      <td>235</td>\n",
       "      <td>262</td>\n",
       "      <td>248</td>\n",
       "      <td>247</td>\n",
       "      <td>206</td>\n",
       "    </tr>\n",
       "    <tr>\n",
       "      <th>Partial</th>\n",
       "      <td>2</td>\n",
       "      <td>4</td>\n",
       "      <td>17</td>\n",
       "      <td>32</td>\n",
       "      <td>70</td>\n",
       "    </tr>\n",
       "  </tbody>\n",
       "</table>\n",
       "</div>"
      ],
      "text/plain": [
       "SalePriceBin   (34899.999, 124000.0]  (124000.0, 147000.0]  \\\n",
       "SaleCondition                                                \n",
       "Abnorml                           45                    20   \n",
       "AdjLand                            2                     2   \n",
       "Alloca                             5                     1   \n",
       "Family                             6                     5   \n",
       "Normal                           235                   262   \n",
       "Partial                            2                     4   \n",
       "\n",
       "SalePriceBin   (147000.0, 179280.0]  (179280.0, 230000.0]  \\\n",
       "SaleCondition                                               \n",
       "Abnorml                          15                    12   \n",
       "AdjLand                           0                     0   \n",
       "Alloca                            2                     2   \n",
       "Family                            5                     2   \n",
       "Normal                          248                   247   \n",
       "Partial                          17                    32   \n",
       "\n",
       "SalePriceBin   (230000.0, 755000.0]  \n",
       "SaleCondition                        \n",
       "Abnorml                           9  \n",
       "AdjLand                           0  \n",
       "Alloca                            2  \n",
       "Family                            2  \n",
       "Normal                          206  \n",
       "Partial                          70  "
      ]
     },
     "execution_count": 8,
     "metadata": {},
     "output_type": "execute_result"
    }
   ],
   "source": [
    "pd.crosstab(train_df['SaleCondition'],train_df['SalePriceBin'])"
   ]
  },
  {
   "cell_type": "code",
   "execution_count": 9,
   "metadata": {},
   "outputs": [
    {
     "data": {
      "text/plain": [
       "SalePrice        1.000000\n",
       "OverallQual      0.790982\n",
       "GrLivArea        0.708624\n",
       "GarageCars       0.640409\n",
       "GarageArea       0.623431\n",
       "TotalBsmtSF      0.613581\n",
       "1stFlrSF         0.605852\n",
       "FullBath         0.560664\n",
       "TotRmsAbvGrd     0.533723\n",
       "YearBuilt        0.522897\n",
       "YearRemodAdd     0.507101\n",
       "GarageYrBlt      0.486362\n",
       "MasVnrArea       0.477493\n",
       "Fireplaces       0.466929\n",
       "BsmtFinSF1       0.386420\n",
       "LotFrontage      0.351799\n",
       "WoodDeckSF       0.324413\n",
       "2ndFlrSF         0.319334\n",
       "OpenPorchSF      0.315856\n",
       "HalfBath         0.284108\n",
       "LotArea          0.263843\n",
       "BsmtFullBath     0.227122\n",
       "BsmtUnfSF        0.214479\n",
       "BedroomAbvGr     0.168213\n",
       "ScreenPorch      0.111447\n",
       "PoolArea         0.092404\n",
       "MoSold           0.046432\n",
       "3SsnPorch        0.044584\n",
       "BsmtFinSF2      -0.011378\n",
       "BsmtHalfBath    -0.016844\n",
       "MiscVal         -0.021190\n",
       "Id              -0.021917\n",
       "LowQualFinSF    -0.025606\n",
       "YrSold          -0.028923\n",
       "OverallCond     -0.077856\n",
       "MSSubClass      -0.084284\n",
       "EnclosedPorch   -0.128578\n",
       "KitchenAbvGr    -0.135907\n",
       "Name: SalePrice, dtype: float64"
      ]
     },
     "execution_count": 9,
     "metadata": {},
     "output_type": "execute_result"
    }
   ],
   "source": [
    "train_df.corr()[\"SalePrice\"].sort_values(ascending  = False)"
   ]
  },
  {
   "cell_type": "markdown",
   "metadata": {},
   "source": [
    "# data preprocessing"
   ]
  },
  {
   "cell_type": "code",
   "execution_count": 10,
   "metadata": {},
   "outputs": [
    {
     "data": {
      "text/plain": [
       "RL         1151\n",
       "RM          218\n",
       "FV           65\n",
       "RH           16\n",
       "C (all)      10\n",
       "Name: MSZoning, dtype: int64"
      ]
     },
     "execution_count": 10,
     "metadata": {},
     "output_type": "execute_result"
    }
   ],
   "source": [
    "train_df.MSZoning.value_counts()"
   ]
  },
  {
   "cell_type": "code",
   "execution_count": 11,
   "metadata": {},
   "outputs": [
    {
     "data": {
      "text/plain": [
       "7200     25\n",
       "9600     24\n",
       "6000     17\n",
       "10800    14\n",
       "9000     14\n",
       "8400     14\n",
       "1680     10\n",
       "7500      9\n",
       "8125      8\n",
       "9100      8\n",
       "6120      8\n",
       "6240      8\n",
       "3182      7\n",
       "7800      6\n",
       "8450      6\n",
       "10000     5\n",
       "4500      5\n",
       "4435      5\n",
       "5000      5\n",
       "10140     5\n",
       "9750      5\n",
       "10400     5\n",
       "5400      5\n",
       "7018      4\n",
       "11700     4\n",
       "9375      4\n",
       "8800      4\n",
       "9900      4\n",
       "8750      4\n",
       "6600      4\n",
       "         ..\n",
       "3136      1\n",
       "13418     1\n",
       "10448     1\n",
       "8849      1\n",
       "7313      1\n",
       "11425     1\n",
       "13472     1\n",
       "8029      1\n",
       "11952     1\n",
       "9738      1\n",
       "12936     1\n",
       "5271      1\n",
       "11414     1\n",
       "12122     1\n",
       "9364      1\n",
       "7314      1\n",
       "9360      1\n",
       "16226     1\n",
       "11404     1\n",
       "15498     1\n",
       "9353      1\n",
       "11400     1\n",
       "14175     1\n",
       "7301      1\n",
       "11394     1\n",
       "7094      1\n",
       "6130      1\n",
       "9337      1\n",
       "5232      1\n",
       "8190      1\n",
       "Name: LotArea, Length: 1073, dtype: int64"
      ]
     },
     "execution_count": 11,
     "metadata": {},
     "output_type": "execute_result"
    }
   ],
   "source": [
    "train_df.LotArea.value_counts()"
   ]
  },
  {
   "cell_type": "code",
   "execution_count": 12,
   "metadata": {},
   "outputs": [
    {
     "data": {
      "text/plain": [
       "(array([ 0.,  0.,  0.,  7., 18., 15., 14., 17.,  6., 18., 18., 24., 16.,\n",
       "        23., 17., 50., 17., 44., 71., 53., 58., 99., 97., 73., 82., 73.,\n",
       "        70., 57., 55., 48., 48., 28., 27., 23., 25., 23., 16.,  9., 10.,\n",
       "         9., 11., 11.,  5.,  6.,  5.,  3.,  1.,  3.,  2.,  2.]),\n",
       " array([    0.,   400.,   800.,  1200.,  1600.,  2000.,  2400.,  2800.,\n",
       "         3200.,  3600.,  4000.,  4400.,  4800.,  5200.,  5600.,  6000.,\n",
       "         6400.,  6800.,  7200.,  7600.,  8000.,  8400.,  8800.,  9200.,\n",
       "         9600., 10000., 10400., 10800., 11200., 11600., 12000., 12400.,\n",
       "        12800., 13200., 13600., 14000., 14400., 14800., 15200., 15600.,\n",
       "        16000., 16400., 16800., 17200., 17600., 18000., 18400., 18800.,\n",
       "        19200., 19600., 20000.]),\n",
       " <a list of 50 Patch objects>)"
      ]
     },
     "execution_count": 12,
     "metadata": {},
     "output_type": "execute_result"
    },
    {
     "data": {
      "image/png": "[encoded data removed]",
      "text/plain": [
       "<Figure size 432x288 with 1 Axes>"
      ]
     },
     "metadata": {
      "needs_background": "light"
     },
     "output_type": "display_data"
    }
   ],
   "source": [
    "# train_df.LotArea2 = train_df.drop(train_df[train_df.LotArea>50000],axis = 0)\n",
    "plt.hist(train_df.LotArea, bins =50, range = (0,20000))"
   ]
  },
  {
   "cell_type": "code",
   "execution_count": 13,
   "metadata": {},
   "outputs": [
    {
     "data": {
      "text/plain": [
       "(array([2., 3., 8., 2., 2., 2., 1., 1., 4., 1., 2., 0., 1., 0., 1., 0., 1.,\n",
       "        0., 0., 1., 1., 1., 0., 0., 1., 1., 1., 1., 0., 0., 0., 1., 0., 1.,\n",
       "        0., 0., 0., 0., 0., 0., 0., 0., 1., 0., 1., 0., 0., 0., 0., 0.]),\n",
       " array([20000., 20600., 21200., 21800., 22400., 23000., 23600., 24200.,\n",
       "        24800., 25400., 26000., 26600., 27200., 27800., 28400., 29000.,\n",
       "        29600., 30200., 30800., 31400., 32000., 32600., 33200., 33800.,\n",
       "        34400., 35000., 35600., 36200., 36800., 37400., 38000., 38600.,\n",
       "        39200., 39800., 40400., 41000., 41600., 42200., 42800., 43400.,\n",
       "        44000., 44600., 45200., 45800., 46400., 47000., 47600., 48200.,\n",
       "        48800., 49400., 50000.]),\n",
       " <a list of 50 Patch objects>)"
      ]
     },
     "execution_count": 13,
     "metadata": {},
     "output_type": "execute_result"
    },
    {
     "data": {
      "image/png": "[encoded data removed]",
      "text/plain": [
       "<Figure size 432x288 with 1 Axes>"
      ]
     },
     "metadata": {
      "needs_background": "light"
     },
     "output_type": "display_data"
    }
   ],
   "source": [
    "plt.hist(train_df.LotArea, bins =50, range = (20000,50000))"
   ]
  },
  {
   "cell_type": "code",
   "execution_count": 14,
   "metadata": {},
   "outputs": [
    {
     "data": {
      "text/plain": [
       "(array([  1.,   5.,  11.,   7.,   7.,   9.,  12.,   3.,  18.,   6.,  16.,\n",
       "         23.,  20.,  32.,  40.,  44.,  88., 120., 187., 201., 178., 149.,\n",
       "         91.,  70.,  40.,  22.,   8.,  15.,   7.,   6.,   2.,   3.,   4.,\n",
       "          2.,   1.,   2.,   3.,   1.,   1.,   1.,   0.,   0.,   0.,   1.,\n",
       "          0.,   0.,   0.,   2.,   0.,   1.]),\n",
       " array([10.34429591, 10.49172239, 10.63914888, 10.78657537, 10.93400185,\n",
       "        11.08142834, 11.22885482, 11.37628131, 11.52370779, 11.67113428,\n",
       "        11.81856077, 11.96598725, 12.11341374, 12.26084022, 12.40826671,\n",
       "        12.5556932 , 12.70311968, 12.85054617, 12.99797265, 13.14539914,\n",
       "        13.29282562, 13.44025211, 13.5876786 , 13.73510508, 13.88253157,\n",
       "        14.02995805, 14.17738454, 14.32481103, 14.47223751, 14.619664  ,\n",
       "        14.76709048, 14.91451697, 15.06194345, 15.20936994, 15.35679643,\n",
       "        15.50422291, 15.6516494 , 15.79907588, 15.94650237, 16.09392886,\n",
       "        16.24135534, 16.38878183, 16.53620831, 16.6836348 , 16.83106128,\n",
       "        16.97848777, 17.12591426, 17.27334074, 17.42076723, 17.56819371,\n",
       "        17.7156202 ]),\n",
       " <a list of 50 Patch objects>)"
      ]
     },
     "execution_count": 14,
     "metadata": {},
     "output_type": "execute_result"
    },
    {
     "data": {
      "image/png": "[encoded data removed]",
      "text/plain": [
       "<Figure size 432x288 with 1 Axes>"
      ]
     },
     "metadata": {
      "needs_background": "light"
     },
     "output_type": "display_data"
    }
   ],
   "source": [
    "plt.hist(np.log2(train_df.LotArea), bins =50)"
   ]
  },
  {
   "cell_type": "code",
   "execution_count": 15,
   "metadata": {},
   "outputs": [],
   "source": [
    "# s = train_df['LotArea'].value_counts(normalize = True)"
   ]
  },
  {
   "cell_type": "code",
   "execution_count": 16,
   "metadata": {},
   "outputs": [],
   "source": [
    "# s"
   ]
  },
  {
   "cell_type": "code",
   "execution_count": 17,
   "metadata": {},
   "outputs": [],
   "source": [
    "train_df['LotAreaLog'] = np.log2(train_df['LotArea'])"
   ]
  },
  {
   "cell_type": "code",
   "execution_count": 18,
   "metadata": {},
   "outputs": [
    {
     "data": {
      "text/plain": [
       "0    13.044736\n",
       "1    13.228819\n",
       "2    13.457637\n",
       "3    13.221285\n",
       "4    13.799686\n",
       "Name: LotAreaLog, dtype: float64"
      ]
     },
     "execution_count": 18,
     "metadata": {},
     "output_type": "execute_result"
    }
   ],
   "source": [
    "train_df['LotAreaLog'].head()"
   ]
  },
  {
   "cell_type": "code",
   "execution_count": 19,
   "metadata": {},
   "outputs": [
    {
     "data": {
      "text/plain": [
       "Reg    925\n",
       "IR1    484\n",
       "IR2     41\n",
       "IR3     10\n",
       "Name: LotShape, dtype: int64"
      ]
     },
     "execution_count": 19,
     "metadata": {},
     "output_type": "execute_result"
    }
   ],
   "source": [
    "train_df.LotShape.value_counts()"
   ]
  },
  {
   "cell_type": "code",
   "execution_count": 20,
   "metadata": {},
   "outputs": [
    {
     "name": "stderr",
     "output_type": "stream",
     "text": [
      "C:\\Users\\CSY\\Anaconda3\\lib\\site-packages\\scipy\\stats\\stats.py:1713: FutureWarning: Using a non-tuple sequence for multidimensional indexing is deprecated; use `arr[tuple(seq)]` instead of `arr[seq]`. In the future this will be interpreted as an array index, `arr[np.array(seq)]`, which will result either in an error or a different result.\n",
      "  return np.add.reduce(sorted[indexer] * weights, axis=axis) / sumval\n"
     ]
    },
    {
     "data": {
      "text/plain": [
       "<matplotlib.axes._subplots.AxesSubplot at 0x27188b0d438>"
      ]
     },
     "execution_count": 20,
     "metadata": {},
     "output_type": "execute_result"
    },
    {
     "data": {
      "image/png": "[encoded data removed]",
      "text/plain": [
       "<Figure size 432x288 with 1 Axes>"
      ]
     },
     "metadata": {
      "needs_background": "light"
     },
     "output_type": "display_data"
    }
   ],
   "source": [
    "import seaborn as sns\n",
    "sns.barplot(x = train_df[\"LotShape\"], y = train_df.SalePrice)"
   ]
  },
  {
   "cell_type": "code",
   "execution_count": 21,
   "metadata": {},
   "outputs": [],
   "source": [
    "train_df[\"LotShapeCat\"]  = train_df.LotShape.replace([\"IR1\", \"IR2\", \"IR3\"], \"IR\")"
   ]
  },
  {
   "cell_type": "code",
   "execution_count": 22,
   "metadata": {},
   "outputs": [
    {
     "data": {
      "text/plain": [
       "array(['Reg', 'IR'], dtype=object)"
      ]
     },
     "execution_count": 22,
     "metadata": {},
     "output_type": "execute_result"
    }
   ],
   "source": [
    "train_df[\"LotShapeCat\"].unique()"
   ]
  },
  {
   "cell_type": "code",
   "execution_count": 23,
   "metadata": {},
   "outputs": [
    {
     "data": {
      "text/plain": [
       "Lvl    1311\n",
       "Bnk      63\n",
       "HLS      50\n",
       "Low      36\n",
       "Name: LandContour, dtype: int64"
      ]
     },
     "execution_count": 23,
     "metadata": {},
     "output_type": "execute_result"
    }
   ],
   "source": [
    "train_df.LandContour.value_counts()"
   ]
  },
  {
   "cell_type": "code",
   "execution_count": 24,
   "metadata": {},
   "outputs": [
    {
     "data": {
      "text/plain": [
       "<matplotlib.axes._subplots.AxesSubplot at 0x27188bf0dd8>"
      ]
     },
     "execution_count": 24,
     "metadata": {},
     "output_type": "execute_result"
    },
    {
     "data": {
      "image/png": "[encoded data removed]",
      "text/plain": [
       "<Figure size 432x288 with 1 Axes>"
      ]
     },
     "metadata": {
      "needs_background": "light"
     },
     "output_type": "display_data"
    }
   ],
   "source": [
    "sns.barplot(x = train_df[\"LandContour\"], y = train_df.SalePrice)"
   ]
  },
  {
   "cell_type": "code",
   "execution_count": 25,
   "metadata": {},
   "outputs": [
    {
     "data": {
      "text/plain": [
       "AllPub    1459\n",
       "NoSeWa       1\n",
       "Name: Utilities, dtype: int64"
      ]
     },
     "execution_count": 25,
     "metadata": {},
     "output_type": "execute_result"
    }
   ],
   "source": [
    "train_df.Utilities.value_counts()"
   ]
  },
  {
   "cell_type": "code",
   "execution_count": 26,
   "metadata": {},
   "outputs": [
    {
     "data": {
      "text/plain": [
       "NAmes      225\n",
       "CollgCr    150\n",
       "OldTown    113\n",
       "Edwards    100\n",
       "Somerst     86\n",
       "Gilbert     79\n",
       "NridgHt     77\n",
       "Sawyer      74\n",
       "NWAmes      73\n",
       "SawyerW     59\n",
       "BrkSide     58\n",
       "Crawfor     51\n",
       "Mitchel     49\n",
       "NoRidge     41\n",
       "Timber      38\n",
       "IDOTRR      37\n",
       "ClearCr     28\n",
       "SWISU       25\n",
       "StoneBr     25\n",
       "MeadowV     17\n",
       "Blmngtn     17\n",
       "BrDale      16\n",
       "Veenker     11\n",
       "NPkVill      9\n",
       "Blueste      2\n",
       "Name: Neighborhood, dtype: int64"
      ]
     },
     "execution_count": 26,
     "metadata": {},
     "output_type": "execute_result"
    }
   ],
   "source": [
    "train_df.Neighborhood.value_counts()"
   ]
  },
  {
   "cell_type": "code",
   "execution_count": 27,
   "metadata": {},
   "outputs": [
    {
     "data": {
      "text/plain": [
       "<BarContainer object of 1460 artists>"
      ]
     },
     "execution_count": 27,
     "metadata": {},
     "output_type": "execute_result"
    },
    {
     "data": {
      "image/png": "[encoded data removed]",
      "text/plain": [
       "<Figure size 1800x720 with 1 Axes>"
      ]
     },
     "metadata": {
      "needs_background": "light"
     },
     "output_type": "display_data"
    }
   ],
   "source": [
    "plt.rcParams['figure.figsize'] = (25,10)\n",
    "y = train_df.SalePrice[np.argsort(-train_df.SalePrice)]\n",
    "# sns.barplot(x = train_df[\"Neighborhood\"], y = y )\n",
    "plt.bar(train_df[\"Neighborhood\"], y )"
   ]
  },
  {
   "cell_type": "code",
   "execution_count": 28,
   "metadata": {},
   "outputs": [],
   "source": [
    "train_df[\"NeighborhoodBin\"]  = train_df[\"Neighborhood\"]\n",
    "train_df[\"NeighborhoodBin\"]  = train_df[\"NeighborhoodBin\"].replace([\"Veenker\", \"CollgCr\"], \"tier1\")\n",
    "train_df[\"NeighborhoodBin\"]  = train_df[\"NeighborhoodBin\"].replace([\"Crawfor\", \"NoRidge\", \"Mitchel\",\"Somerst\",\"NWAmes\"], \"tier2\")\n",
    "train_df[\"NeighborhoodBin\"]  = train_df[\"NeighborhoodBin\"].replace([\"OldTown\",\"BrkSide\",\"Sawyer\",\"NridgHt\",\"NAmes\",\\\n",
    "                                                              \"SawyerW\",\"IDOTRR\",\"MeadowV\"], \"tier3\")\n",
    "train_df[\"NeighborhoodBin\"]  = train_df[\"NeighborhoodBin\"].replace([\"Edwards\", \"Timber\",\"Gilbert\",\"StoneBr\",\"ClearCr\"], \"tier4\")\n",
    "train_df[\"NeighborhoodBin\"]  = train_df[\"NeighborhoodBin\"].replace([\"NPkVill\", \"Blmngtn\",\"BrDale\",\"SWISU\",\"Blueste\"], \"tier5\")"
   ]
  },
  {
   "cell_type": "code",
   "execution_count": 29,
   "metadata": {},
   "outputs": [
    {
     "data": {
      "text/plain": [
       "0    tier1\n",
       "1    tier1\n",
       "2    tier1\n",
       "3    tier2\n",
       "4    tier2\n",
       "Name: NeighborhoodBin, dtype: object"
      ]
     },
     "execution_count": 29,
     "metadata": {},
     "output_type": "execute_result"
    }
   ],
   "source": [
    "train_df[\"NeighborhoodBin\"].head()"
   ]
  },
  {
   "cell_type": "code",
   "execution_count": 30,
   "metadata": {},
   "outputs": [
    {
     "data": {
      "text/plain": [
       "array(['tier1', 'tier2', 'tier3', 'tier4', 'tier5'], dtype=object)"
      ]
     },
     "execution_count": 30,
     "metadata": {},
     "output_type": "execute_result"
    }
   ],
   "source": [
    "train_df[\"NeighborhoodBin\"].unique()"
   ]
  },
  {
   "cell_type": "code",
   "execution_count": 31,
   "metadata": {},
   "outputs": [
    {
     "data": {
      "text/plain": [
       "1Story    726\n",
       "2Story    445\n",
       "1.5Fin    154\n",
       "SLvl       65\n",
       "SFoyer     37\n",
       "1.5Unf     14\n",
       "2.5Unf     11\n",
       "2.5Fin      8\n",
       "Name: HouseStyle, dtype: int64"
      ]
     },
     "execution_count": 31,
     "metadata": {},
     "output_type": "execute_result"
    }
   ],
   "source": [
    "train_df.HouseStyle.value_counts()"
   ]
  },
  {
   "cell_type": "code",
   "execution_count": 32,
   "metadata": {},
   "outputs": [
    {
     "data": {
      "text/plain": [
       "<matplotlib.axes._subplots.AxesSubplot at 0x2718991dc18>"
      ]
     },
     "execution_count": 32,
     "metadata": {},
     "output_type": "execute_result"
    },
    {
     "data": {
      "image/png": "[encoded data removed]",
      "text/plain": [
       "<Figure size 1800x720 with 1 Axes>"
      ]
     },
     "metadata": {
      "needs_background": "light"
     },
     "output_type": "display_data"
    }
   ],
   "source": [
    "sns.barplot(x = train_df[\"HouseStyle\"], y = train_df.SalePrice)"
   ]
  },
  {
   "cell_type": "code",
   "execution_count": 33,
   "metadata": {},
   "outputs": [],
   "source": [
    "train_df[\"HouseStyleBin\"]  = train_df[\"HouseStyle\"]\n",
    "train_df[\"HouseStyleBin\"]  = train_df[\"HouseStyleBin\"].replace([\"2Story\", \"2.5Fin\"], \"Floor2\")\n",
    "train_df[\"HouseStyleBin\"]  = train_df[\"HouseStyleBin\"].replace([\"1.5Fin\", \"1.5Unf\",\"SFoyer\", \"2.5Unf\"], \"Floor1.5\")\n",
    "train_df[\"HouseStyleBin\"]  = train_df[\"HouseStyleBin\"].replace([\"SLvl\",\"1Story\"], \"Floor1\")"
   ]
  },
  {
   "cell_type": "code",
   "execution_count": 34,
   "metadata": {},
   "outputs": [
    {
     "data": {
      "text/plain": [
       "array(['Floor2', 'Floor1', 'Floor1.5'], dtype=object)"
      ]
     },
     "execution_count": 34,
     "metadata": {},
     "output_type": "execute_result"
    }
   ],
   "source": [
    "train_df[\"HouseStyleBin\"].unique()"
   ]
  },
  {
   "cell_type": "code",
   "execution_count": 35,
   "metadata": {},
   "outputs": [
    {
     "data": {
      "text/plain": [
       "5     397\n",
       "6     374\n",
       "7     319\n",
       "8     168\n",
       "4     116\n",
       "9      43\n",
       "3      20\n",
       "10     18\n",
       "2       3\n",
       "1       2\n",
       "Name: OverallQual, dtype: int64"
      ]
     },
     "execution_count": 35,
     "metadata": {},
     "output_type": "execute_result"
    }
   ],
   "source": [
    "train_df.OverallQual.value_counts()"
   ]
  },
  {
   "cell_type": "code",
   "execution_count": 36,
   "metadata": {},
   "outputs": [
    {
     "data": {
      "text/plain": [
       "<BarContainer object of 1460 artists>"
      ]
     },
     "execution_count": 36,
     "metadata": {},
     "output_type": "execute_result"
    },
    {
     "data": {
      "image/png": "[encoded data removed]",
      "text/plain": [
       "<Figure size 1800x720 with 1 Axes>"
      ]
     },
     "metadata": {
      "needs_background": "light"
     },
     "output_type": "display_data"
    }
   ],
   "source": [
    "plt.rcParams['figure.figsize'] = (25,10)\n",
    "quality = train_df.OverallQual[np.argsort(-train_df.OverallQual)]\n",
    "plt.bar(train_df[\"OverallQual\"], train_df.SalePrice )"
   ]
  },
  {
   "cell_type": "code",
   "execution_count": 37,
   "metadata": {},
   "outputs": [],
   "source": [
    "train_df.OverallQual = train_df.OverallQual.replace([1,2,3],3)"
   ]
  },
  {
   "cell_type": "code",
   "execution_count": 38,
   "metadata": {},
   "outputs": [
    {
     "data": {
      "text/plain": [
       "array([ 7,  6,  8,  5,  9,  4, 10,  3], dtype=int64)"
      ]
     },
     "execution_count": 38,
     "metadata": {},
     "output_type": "execute_result"
    }
   ],
   "source": [
    "train_df.OverallQual.unique()"
   ]
  },
  {
   "cell_type": "code",
   "execution_count": 39,
   "metadata": {},
   "outputs": [
    {
     "data": {
      "text/plain": [
       "1950    178\n",
       "2006     97\n",
       "2007     76\n",
       "2005     73\n",
       "2004     62\n",
       "2000     55\n",
       "2003     51\n",
       "2002     48\n",
       "2008     40\n",
       "1996     36\n",
       "1998     36\n",
       "1995     31\n",
       "1976     30\n",
       "1999     30\n",
       "1970     26\n",
       "1997     25\n",
       "1977     25\n",
       "2009     23\n",
       "1994     22\n",
       "2001     21\n",
       "1972     20\n",
       "1965     19\n",
       "1993     19\n",
       "1971     18\n",
       "1959     18\n",
       "1968     17\n",
       "1992     17\n",
       "1978     16\n",
       "1966     15\n",
       "1958     15\n",
       "       ... \n",
       "1962     14\n",
       "1954     14\n",
       "1969     14\n",
       "1991     14\n",
       "1963     13\n",
       "1960     12\n",
       "1967     12\n",
       "1980     12\n",
       "1973     11\n",
       "1964     11\n",
       "1989     11\n",
       "1987     10\n",
       "1975     10\n",
       "1979     10\n",
       "1956     10\n",
       "1953     10\n",
       "1957      9\n",
       "1988      9\n",
       "1955      9\n",
       "1985      9\n",
       "1961      8\n",
       "1981      8\n",
       "1974      7\n",
       "1982      7\n",
       "1984      7\n",
       "2010      6\n",
       "1983      5\n",
       "1952      5\n",
       "1986      5\n",
       "1951      4\n",
       "Name: YearRemodAdd, Length: 61, dtype: int64"
      ]
     },
     "execution_count": 39,
     "metadata": {},
     "output_type": "execute_result"
    }
   ],
   "source": [
    "train_df.YearRemodAdd.value_counts()"
   ]
  },
  {
   "cell_type": "code",
   "execution_count": 40,
   "metadata": {},
   "outputs": [
    {
     "data": {
      "text/plain": [
       "<matplotlib.axes._subplots.AxesSubplot at 0x2718adde128>"
      ]
     },
     "execution_count": 40,
     "metadata": {},
     "output_type": "execute_result"
    },
    {
     "data": {
      "image/png": "[encoded data removed]",
      "text/plain": [
       "<Figure size 1800x720 with 1 Axes>"
      ]
     },
     "metadata": {
      "needs_background": "light"
     },
     "output_type": "display_data"
    }
   ],
   "source": [
    "plt.rcParams['figure.figsize'] = (25,10)\n",
    "sns.barplot(x = train_df.YearRemodAdd, y = train_df.SalePrice)"
   ]
  },
  {
   "cell_type": "code",
   "execution_count": 41,
   "metadata": {},
   "outputs": [],
   "source": [
    "train_df[\"YearRemodBin\"] = pd.cut(train_df[\"YearRemodAdd\"], 6)"
   ]
  },
  {
   "cell_type": "code",
   "execution_count": 42,
   "metadata": {},
   "outputs": [
    {
     "data": {
      "text/plain": [
       "[(2000.0, 2005.0], (1975.0, 1980.0], (1965.0, 1970.0], (1995.0, 2000.0], (1990.0, 1995.0], ..., (1960.0, 1965.0], (2005.0, 2010.0], (1955.0, 1960.0], (1985.0, 1990.0], (1980.0, 1985.0]]\n",
       "Length: 12\n",
       "Categories (12, interval[float64]): [(1949.94, 1955.0] < (1955.0, 1960.0] < (1960.0, 1965.0] < (1965.0, 1970.0] ... (1990.0, 1995.0] < (1995.0, 2000.0] < (2000.0, 2005.0] < (2005.0, 2010.0]]"
      ]
     },
     "execution_count": 42,
     "metadata": {},
     "output_type": "execute_result"
    }
   ],
   "source": [
    "train_df[\"YearRemodBin\"].unique()"
   ]
  },
  {
   "cell_type": "code",
   "execution_count": 43,
   "metadata": {},
   "outputs": [
    {
     "data": {
      "text/plain": [
       "(2000.0, 2005.0]     255\n",
       "(2005.0, 2010.0]     242\n",
       "(1949.94, 1955.0]    220\n",
       "(1995.0, 2000.0]     182\n",
       "(1990.0, 1995.0]     103\n",
       "(1975.0, 1980.0]      93\n",
       "(1965.0, 1970.0]      84\n",
       "(1970.0, 1975.0]      66\n",
       "(1960.0, 1965.0]      65\n",
       "(1955.0, 1960.0]      64\n",
       "(1985.0, 1990.0]      50\n",
       "(1980.0, 1985.0]      36\n",
       "Name: YearRemodBin, dtype: int64"
      ]
     },
     "execution_count": 43,
     "metadata": {},
     "output_type": "execute_result"
    }
   ],
   "source": [
    "train_df[\"YearRemodBin\"].value_counts()"
   ]
  },
  {
   "cell_type": "code",
   "execution_count": 44,
   "metadata": {},
   "outputs": [
    {
     "data": {
      "text/plain": [
       "TA    906\n",
       "Gd    488\n",
       "Ex     52\n",
       "Fa     14\n",
       "Name: ExterQual, dtype: int64"
      ]
     },
     "execution_count": 44,
     "metadata": {},
     "output_type": "execute_result"
    }
   ],
   "source": [
    "train_df[\"ExterQual\"].value_counts()"
   ]
  },
  {
   "cell_type": "code",
   "execution_count": 45,
   "metadata": {},
   "outputs": [],
   "source": [
    "train_df[\"ExterQual2\"] = train_df[\"ExterQual\"]\n",
    "train_df[\"ExterQual2\"] = train_df[\"ExterQual2\"].replace(['Fa'],'TA')\n",
    "train_df[\"ExterQual2\"] = train_df[\"ExterQual2\"].replace(['Ex'],'Gd')"
   ]
  },
  {
   "cell_type": "code",
   "execution_count": 46,
   "metadata": {},
   "outputs": [
    {
     "data": {
      "text/plain": [
       "array(['Gd', 'TA'], dtype=object)"
      ]
     },
     "execution_count": 46,
     "metadata": {},
     "output_type": "execute_result"
    }
   ],
   "source": [
    "train_df[\"ExterQual2\"].unique()"
   ]
  },
  {
   "cell_type": "code",
   "execution_count": 47,
   "metadata": {},
   "outputs": [
    {
     "data": {
      "text/plain": [
       "Ex    741\n",
       "TA    428\n",
       "Gd    241\n",
       "Fa     49\n",
       "Po      1\n",
       "Name: HeatingQC, dtype: int64"
      ]
     },
     "execution_count": 47,
     "metadata": {},
     "output_type": "execute_result"
    }
   ],
   "source": [
    "train_df[\"HeatingQC\"].value_counts()"
   ]
  },
  {
   "cell_type": "code",
   "execution_count": 48,
   "metadata": {},
   "outputs": [
    {
     "name": "stderr",
     "output_type": "stream",
     "text": [
      "C:\\Users\\CSY\\Anaconda3\\lib\\site-packages\\scipy\\stats\\stats.py:1713: FutureWarning: Using a non-tuple sequence for multidimensional indexing is deprecated; use `arr[tuple(seq)]` instead of `arr[seq]`. In the future this will be interpreted as an array index, `arr[np.array(seq)]`, which will result either in an error or a different result.\n",
      "  return np.add.reduce(sorted[indexer] * weights, axis=axis) / sumval\n"
     ]
    },
    {
     "data": {
      "text/plain": [
       "<matplotlib.axes._subplots.AxesSubplot at 0x2718c9add30>"
      ]
     },
     "execution_count": 48,
     "metadata": {},
     "output_type": "execute_result"
    },
    {
     "data": {
      "image/png": "[encoded data removed]",
      "text/plain": [
       "<Figure size 1800x720 with 1 Axes>"
      ]
     },
     "metadata": {
      "needs_background": "light"
     },
     "output_type": "display_data"
    }
   ],
   "source": [
    "sns.barplot(x = train_df[\"HeatingQC\"], y =  train_df.SalePrice )"
   ]
  },
  {
   "cell_type": "code",
   "execution_count": 49,
   "metadata": {},
   "outputs": [],
   "source": [
    "train_df[\"HeatingQC2\"] = train_df[\"HeatingQC\"]\n",
    "train_df[\"HeatingQC2\"] = train_df[\"HeatingQC2\"].replace(['Fa','Po'],'Bad')"
   ]
  },
  {
   "cell_type": "code",
   "execution_count": 50,
   "metadata": {},
   "outputs": [
    {
     "data": {
      "text/plain": [
       "array(['Ex', 'Gd', 'TA', 'Bad'], dtype=object)"
      ]
     },
     "execution_count": 50,
     "metadata": {},
     "output_type": "execute_result"
    }
   ],
   "source": [
    "train_df.HeatingQC2.unique()"
   ]
  },
  {
   "cell_type": "code",
   "execution_count": 51,
   "metadata": {},
   "outputs": [
    {
     "data": {
      "text/plain": [
       "Y    1365\n",
       "N      95\n",
       "Name: CentralAir, dtype: int64"
      ]
     },
     "execution_count": 51,
     "metadata": {},
     "output_type": "execute_result"
    }
   ],
   "source": [
    "train_df.CentralAir.value_counts()"
   ]
  },
  {
   "cell_type": "code",
   "execution_count": 52,
   "metadata": {},
   "outputs": [
    {
     "data": {
      "text/plain": [
       "SBrkr    1334\n",
       "FuseA      94\n",
       "FuseF      27\n",
       "FuseP       3\n",
       "Mix         1\n",
       "Name: Electrical, dtype: int64"
      ]
     },
     "execution_count": 52,
     "metadata": {},
     "output_type": "execute_result"
    }
   ],
   "source": [
    "train_df.Electrical.value_counts()"
   ]
  },
  {
   "cell_type": "code",
   "execution_count": 53,
   "metadata": {},
   "outputs": [
    {
     "data": {
      "text/plain": [
       "1"
      ]
     },
     "execution_count": 53,
     "metadata": {},
     "output_type": "execute_result"
    }
   ],
   "source": [
    "train_df.Electrical.isnull().sum()"
   ]
  },
  {
   "cell_type": "code",
   "execution_count": 54,
   "metadata": {},
   "outputs": [],
   "source": [
    "train_df.Electrical = train_df['Electrical'].fillna(method = 'ffill')"
   ]
  },
  {
   "cell_type": "code",
   "execution_count": 55,
   "metadata": {},
   "outputs": [
    {
     "data": {
      "text/plain": [
       "0"
      ]
     },
     "execution_count": 55,
     "metadata": {},
     "output_type": "execute_result"
    }
   ],
   "source": [
    "train_df.Electrical.isnull().sum()"
   ]
  },
  {
   "cell_type": "code",
   "execution_count": 56,
   "metadata": {},
   "outputs": [
    {
     "data": {
      "text/plain": [
       "<matplotlib.axes._subplots.AxesSubplot at 0x2718aebc710>"
      ]
     },
     "execution_count": 56,
     "metadata": {},
     "output_type": "execute_result"
    },
    {
     "data": {
      "image/png": "[encoded data removed]",
      "text/plain": [
       "<Figure size 1800x720 with 1 Axes>"
      ]
     },
     "metadata": {
      "needs_background": "light"
     },
     "output_type": "display_data"
    }
   ],
   "source": [
    "sns.barplot(x = train_df.Electrical, y = train_df.SalePrice)"
   ]
  },
  {
   "cell_type": "code",
   "execution_count": 57,
   "metadata": {},
   "outputs": [],
   "source": [
    "train_df[\"Electrical2\"] = train_df[\"Electrical\"]\n",
    "train_df[\"Electrical2\"] = train_df[\"Electrical2\"].replace(['FuseF','FuseA','FuseP','Mix'],'Fuse')"
   ]
  },
  {
   "cell_type": "code",
   "execution_count": 58,
   "metadata": {},
   "outputs": [
    {
     "data": {
      "text/plain": [
       "array(['SBrkr', 'Fuse'], dtype=object)"
      ]
     },
     "execution_count": 58,
     "metadata": {},
     "output_type": "execute_result"
    }
   ],
   "source": [
    "train_df[\"Electrical2\"].unique()"
   ]
  },
  {
   "cell_type": "code",
   "execution_count": 59,
   "metadata": {},
   "outputs": [
    {
     "data": {
      "text/plain": [
       "864     22\n",
       "1040    14\n",
       "894     11\n",
       "848     10\n",
       "1456    10\n",
       "912      9\n",
       "1200     9\n",
       "816      8\n",
       "1092     8\n",
       "1344     7\n",
       "1728     7\n",
       "987      7\n",
       "1056     6\n",
       "1224     6\n",
       "1768     6\n",
       "1494     6\n",
       "1484     6\n",
       "630      6\n",
       "1144     5\n",
       "1314     5\n",
       "960      5\n",
       "1252     5\n",
       "1710     5\n",
       "1392     5\n",
       "988      5\n",
       "990      5\n",
       "1656     5\n",
       "1218     5\n",
       "1302     5\n",
       "882      4\n",
       "        ..\n",
       "1357     1\n",
       "1347     1\n",
       "1453     1\n",
       "1346     1\n",
       "1343     1\n",
       "1342     1\n",
       "1338     1\n",
       "1334     1\n",
       "1327     1\n",
       "1322     1\n",
       "1385     1\n",
       "1386     1\n",
       "1387     1\n",
       "1391     1\n",
       "1446     1\n",
       "3493     1\n",
       "1436     1\n",
       "1434     1\n",
       "1429     1\n",
       "1425     1\n",
       "1411     1\n",
       "1406     1\n",
       "1405     1\n",
       "1402     1\n",
       "1400     1\n",
       "3447     1\n",
       "1396     1\n",
       "1395     1\n",
       "1393     1\n",
       "2054     1\n",
       "Name: GrLivArea, Length: 861, dtype: int64"
      ]
     },
     "execution_count": 59,
     "metadata": {},
     "output_type": "execute_result"
    }
   ],
   "source": [
    "train_df[\"GrLivArea\"].value_counts()"
   ]
  },
  {
   "cell_type": "code",
   "execution_count": 60,
   "metadata": {},
   "outputs": [
    {
     "data": {
      "text/plain": [
       "<matplotlib.axes._subplots.AxesSubplot at 0x2718b2ad160>"
      ]
     },
     "execution_count": 60,
     "metadata": {},
     "output_type": "execute_result"
    },
    {
     "data": {
      "image/png": "[encoded data removed]",
      "text/plain": [
       "<Figure size 1800x720 with 1 Axes>"
      ]
     },
     "metadata": {
      "needs_background": "light"
     },
     "output_type": "display_data"
    }
   ],
   "source": [
    "sns.barplot(x =train_df[\"GrLivArea\"], y = train_df.SalePrice )"
   ]
  },
  {
   "cell_type": "code",
   "execution_count": 61,
   "metadata": {},
   "outputs": [
    {
     "data": {
      "text/plain": [
       "6     402\n",
       "7     329\n",
       "5     275\n",
       "8     187\n",
       "4      97\n",
       "9      75\n",
       "10     47\n",
       "11     18\n",
       "3      17\n",
       "12     11\n",
       "14      1\n",
       "2       1\n",
       "Name: TotRmsAbvGrd, dtype: int64"
      ]
     },
     "execution_count": 61,
     "metadata": {},
     "output_type": "execute_result"
    }
   ],
   "source": [
    "train_df[\"TotRmsAbvGrd\"].value_counts()"
   ]
  },
  {
   "cell_type": "code",
   "execution_count": 62,
   "metadata": {},
   "outputs": [
    {
     "data": {
      "text/plain": [
       "<matplotlib.axes._subplots.AxesSubplot at 0x2718e5edbe0>"
      ]
     },
     "execution_count": 62,
     "metadata": {},
     "output_type": "execute_result"
    },
    {
     "data": {
      "image/png": "[encoded data removed]",
      "text/plain": [
       "<Figure size 1800x720 with 1 Axes>"
      ]
     },
     "metadata": {
      "needs_background": "light"
     },
     "output_type": "display_data"
    }
   ],
   "source": [
    "sns.barplot(x =train_df[\"TotRmsAbvGrd\"], y = train_df.SalePrice )"
   ]
  },
  {
   "cell_type": "code",
   "execution_count": 63,
   "metadata": {},
   "outputs": [],
   "source": [
    "train_df[\"TotRms2\"] = train_df[\"TotRmsAbvGrd\"]\n",
    "train_df[\"TotRms2\"] = train_df[\"TotRms2\"].replace([2,3],4)\n",
    "train_df[\"TotRms2\"] = train_df[\"TotRms2\"].replace([10, 11, 12],10)"
   ]
  },
  {
   "cell_type": "code",
   "execution_count": 64,
   "metadata": {},
   "outputs": [
    {
     "data": {
      "text/plain": [
       "array([ 8,  6,  7,  9,  5, 10,  4, 14], dtype=int64)"
      ]
     },
     "execution_count": 64,
     "metadata": {},
     "output_type": "execute_result"
    }
   ],
   "source": [
    "train_df[\"TotRms2\"].unique()"
   ]
  },
  {
   "cell_type": "code",
   "execution_count": 65,
   "metadata": {},
   "outputs": [
    {
     "data": {
      "text/plain": [
       "0    690\n",
       "1    650\n",
       "2    115\n",
       "3      5\n",
       "Name: Fireplaces, dtype: int64"
      ]
     },
     "execution_count": 65,
     "metadata": {},
     "output_type": "execute_result"
    }
   ],
   "source": [
    "train_df.Fireplaces.value_counts()"
   ]
  },
  {
   "cell_type": "code",
   "execution_count": 66,
   "metadata": {},
   "outputs": [
    {
     "data": {
      "text/plain": [
       "<matplotlib.axes._subplots.AxesSubplot at 0x2718ffb1e48>"
      ]
     },
     "execution_count": 66,
     "metadata": {},
     "output_type": "execute_result"
    },
    {
     "data": {
      "image/png": "[encoded data removed]",
      "text/plain": [
       "<Figure size 1800x720 with 1 Axes>"
      ]
     },
     "metadata": {
      "needs_background": "light"
     },
     "output_type": "display_data"
    }
   ],
   "source": [
    "sns.barplot(x =train_df[\"Fireplaces\"], y = train_df.SalePrice )"
   ]
  },
  {
   "cell_type": "code",
   "execution_count": 67,
   "metadata": {},
   "outputs": [],
   "source": [
    "train_df[\"Fireplaces2\"] = train_df[\"Fireplaces\"]\n",
    "train_df[\"Fireplaces2\"] = train_df[\"Fireplaces2\"].replace([3],2)"
   ]
  },
  {
   "cell_type": "code",
   "execution_count": 68,
   "metadata": {},
   "outputs": [
    {
     "data": {
      "text/plain": [
       "array([0, 1, 2], dtype=int64)"
      ]
     },
     "execution_count": 68,
     "metadata": {},
     "output_type": "execute_result"
    }
   ],
   "source": [
    "train_df[\"Fireplaces2\"].unique()"
   ]
  },
  {
   "cell_type": "code",
   "execution_count": 69,
   "metadata": {},
   "outputs": [
    {
     "data": {
      "text/plain": [
       "Attchd     870\n",
       "Detchd     387\n",
       "BuiltIn     88\n",
       "Basment     19\n",
       "CarPort      9\n",
       "2Types       6\n",
       "Name: GarageType, dtype: int64"
      ]
     },
     "execution_count": 69,
     "metadata": {},
     "output_type": "execute_result"
    }
   ],
   "source": [
    "train_df[\"GarageType\"].value_counts()"
   ]
  },
  {
   "cell_type": "code",
   "execution_count": 70,
   "metadata": {},
   "outputs": [
    {
     "data": {
      "text/plain": [
       "<matplotlib.axes._subplots.AxesSubplot at 0x2718b2d32e8>"
      ]
     },
     "execution_count": 70,
     "metadata": {},
     "output_type": "execute_result"
    },
    {
     "data": {
      "image/png": "[encoded data removed]",
      "text/plain": [
       "<Figure size 1800x720 with 1 Axes>"
      ]
     },
     "metadata": {
      "needs_background": "light"
     },
     "output_type": "display_data"
    }
   ],
   "source": [
    "sns.barplot(x =train_df[\"GarageType\"], y = train_df.SalePrice )"
   ]
  },
  {
   "cell_type": "code",
   "execution_count": 71,
   "metadata": {},
   "outputs": [],
   "source": [
    "train_df[\"GarageType2\"] = train_df[\"GarageType\"]\n",
    "train_df[\"GarageType2\"] = train_df[\"GarageType2\"].replace(['Basment','CarPort','2Types'],'Detchd')\n",
    "train_df[\"GarageType2\"] = train_df[\"GarageType2\"].fillna(\"NoGarage\")"
   ]
  },
  {
   "cell_type": "code",
   "execution_count": 72,
   "metadata": {},
   "outputs": [
    {
     "data": {
      "text/plain": [
       "array(['Attchd', 'Detchd', 'BuiltIn', 'NoGarage'], dtype=object)"
      ]
     },
     "execution_count": 72,
     "metadata": {},
     "output_type": "execute_result"
    }
   ],
   "source": [
    "train_df[\"GarageType2\"].unique()"
   ]
  },
  {
   "cell_type": "code",
   "execution_count": 73,
   "metadata": {},
   "outputs": [
    {
     "data": {
      "text/plain": [
       "0       81\n",
       "440     49\n",
       "576     47\n",
       "240     38\n",
       "484     34\n",
       "528     33\n",
       "288     27\n",
       "400     25\n",
       "480     24\n",
       "264     24\n",
       "308     20\n",
       "420     19\n",
       "280     16\n",
       "672     15\n",
       "216     12\n",
       "504     12\n",
       "336     12\n",
       "352     12\n",
       "360     11\n",
       "564     11\n",
       "300     10\n",
       "462     10\n",
       "572     10\n",
       "540     10\n",
       "539      9\n",
       "660      9\n",
       "180      9\n",
       "384      9\n",
       "312      9\n",
       "286      9\n",
       "        ..\n",
       "414      1\n",
       "413      1\n",
       "768      1\n",
       "455      1\n",
       "708      1\n",
       "757      1\n",
       "711      1\n",
       "714      1\n",
       "481      1\n",
       "716      1\n",
       "479      1\n",
       "719      1\n",
       "477      1\n",
       "721      1\n",
       "475      1\n",
       "722      1\n",
       "726      1\n",
       "732      1\n",
       "738      1\n",
       "739      1\n",
       "740      1\n",
       "748      1\n",
       "749      1\n",
       "752      1\n",
       "753      1\n",
       "754      1\n",
       "459      1\n",
       "458      1\n",
       "756      1\n",
       "1418     1\n",
       "Name: GarageArea, Length: 441, dtype: int64"
      ]
     },
     "execution_count": 73,
     "metadata": {},
     "output_type": "execute_result"
    }
   ],
   "source": [
    "train_df[\"GarageArea\"].value_counts()"
   ]
  },
  {
   "cell_type": "code",
   "execution_count": 74,
   "metadata": {},
   "outputs": [
    {
     "data": {
      "text/plain": [
       "<matplotlib.axes._subplots.AxesSubplot at 0x2718ff23908>"
      ]
     },
     "execution_count": 74,
     "metadata": {},
     "output_type": "execute_result"
    },
    {
     "data": {
      "image/png": "[encoded data removed]",
      "text/plain": [
       "<Figure size 1800x720 with 1 Axes>"
      ]
     },
     "metadata": {
      "needs_background": "light"
     },
     "output_type": "display_data"
    }
   ],
   "source": [
    "sns.barplot(x =train_df[\"GarageArea\"], y = train_df.SalePrice )"
   ]
  },
  {
   "cell_type": "code",
   "execution_count": 75,
   "metadata": {},
   "outputs": [],
   "source": [
    "train_df[\"GarageAreaBin\"] = pd.qcut(train_df[\"GarageArea\"],10)"
   ]
  },
  {
   "cell_type": "code",
   "execution_count": 76,
   "metadata": {},
   "outputs": [
    {
     "name": "stderr",
     "output_type": "stream",
     "text": [
      "C:\\Users\\CSY\\Anaconda3\\lib\\site-packages\\scipy\\stats\\stats.py:1713: FutureWarning: Using a non-tuple sequence for multidimensional indexing is deprecated; use `arr[tuple(seq)]` instead of `arr[seq]`. In the future this will be interpreted as an array index, `arr[np.array(seq)]`, which will result either in an error or a different result.\n",
      "  return np.add.reduce(sorted[indexer] * weights, axis=axis) / sumval\n"
     ]
    },
    {
     "data": {
      "text/plain": [
       "<matplotlib.axes._subplots.AxesSubplot at 0x27190538dd8>"
      ]
     },
     "execution_count": 76,
     "metadata": {},
     "output_type": "execute_result"
    },
    {
     "data": {
      "image/png": "[encoded data removed]",
      "text/plain": [
       "<Figure size 1800x720 with 1 Axes>"
      ]
     },
     "metadata": {
      "needs_background": "light"
     },
     "output_type": "display_data"
    }
   ],
   "source": [
    "sns.barplot(x =train_df[\"GarageAreaBin\"], y = train_df.SalePrice )"
   ]
  },
  {
   "cell_type": "code",
   "execution_count": 77,
   "metadata": {},
   "outputs": [
    {
     "data": {
      "text/plain": [
       "(384.0, 440.0]     188\n",
       "(-0.001, 240.0]    168\n",
       "(295.6, 384.0]     148\n",
       "(757.1, 1418.0]    146\n",
       "(620.2, 757.1]     146\n",
       "(516.0, 560.0]     146\n",
       "(560.0, 620.2]     145\n",
       "(440.0, 480.0]     125\n",
       "(480.0, 516.0]     124\n",
       "(240.0, 295.6]     124\n",
       "Name: GarageAreaBin, dtype: int64"
      ]
     },
     "execution_count": 77,
     "metadata": {},
     "output_type": "execute_result"
    }
   ],
   "source": [
    "train_df[\"GarageAreaBin\"].value_counts()"
   ]
  },
  {
   "cell_type": "code",
   "execution_count": 78,
   "metadata": {},
   "outputs": [],
   "source": [
    "# train_df.Electrical2.isnull().sum()"
   ]
  },
  {
   "cell_type": "code",
   "execution_count": 80,
   "metadata": {},
   "outputs": [],
   "source": [
    "# train_df[['LotAreaLog'],['GrLiveArea']].head()"
   ]
  },
  {
   "cell_type": "code",
   "execution_count": 81,
   "metadata": {},
   "outputs": [],
   "source": [
    "numerical_feature  = ['LotAreaLog','GrLivArea', 'TotRms2', 'Fireplaces2']\n",
    "categorical_feature = [ 'LotShapeCat', 'LandContour', 'NeighborhoodBin', 'HouseStyleBin', 'OverallQual', 'YearRemodBin', \\\n",
    "                                'ExterQual2','HeatingQC2','CentralAir', 'Electrical2' ,'GarageType2','GarageAreaBin'] "
   ]
  },
  {
   "cell_type": "code",
   "execution_count": 82,
   "metadata": {},
   "outputs": [],
   "source": [
    "total_feature = numerical_feature + categorical_feature"
   ]
  },
  {
   "cell_type": "code",
   "execution_count": 83,
   "metadata": {},
   "outputs": [],
   "source": [
    "X = train_df[total_feature]"
   ]
  },
  {
   "cell_type": "code",
   "execution_count": 84,
   "metadata": {},
   "outputs": [
    {
     "data": {
      "text/html": [
       "<div>\n",
       "<style scoped>\n",
       "    .dataframe tbody tr th:only-of-type {\n",
       "        vertical-align: middle;\n",
       "    }\n",
       "\n",
       "    .dataframe tbody tr th {\n",
       "        vertical-align: top;\n",
       "    }\n",
       "\n",
       "    .dataframe thead th {\n",
       "        text-align: right;\n",
       "    }\n",
       "</style>\n",
       "<table border=\"1\" class=\"dataframe\">\n",
       "  <thead>\n",
       "    <tr style=\"text-align: right;\">\n",
       "      <th></th>\n",
       "      <th>LotAreaLog</th>\n",
       "      <th>GrLivArea</th>\n",
       "      <th>TotRms2</th>\n",
       "      <th>Fireplaces2</th>\n",
       "      <th>LotShapeCat</th>\n",
       "      <th>LandContour</th>\n",
       "      <th>NeighborhoodBin</th>\n",
       "      <th>HouseStyleBin</th>\n",
       "      <th>OverallQual</th>\n",
       "      <th>YearRemodBin</th>\n",
       "      <th>ExterQual2</th>\n",
       "      <th>HeatingQC2</th>\n",
       "      <th>CentralAir</th>\n",
       "      <th>Electrical2</th>\n",
       "      <th>GarageType2</th>\n",
       "      <th>GarageAreaBin</th>\n",
       "    </tr>\n",
       "  </thead>\n",
       "  <tbody>\n",
       "    <tr>\n",
       "      <th>0</th>\n",
       "      <td>13.044736</td>\n",
       "      <td>1710</td>\n",
       "      <td>8</td>\n",
       "      <td>0</td>\n",
       "      <td>Reg</td>\n",
       "      <td>Lvl</td>\n",
       "      <td>tier1</td>\n",
       "      <td>Floor2</td>\n",
       "      <td>7</td>\n",
       "      <td>(2000.0, 2005.0]</td>\n",
       "      <td>Gd</td>\n",
       "      <td>Ex</td>\n",
       "      <td>Y</td>\n",
       "      <td>SBrkr</td>\n",
       "      <td>Attchd</td>\n",
       "      <td>(516.0, 560.0]</td>\n",
       "    </tr>\n",
       "    <tr>\n",
       "      <th>1</th>\n",
       "      <td>13.228819</td>\n",
       "      <td>1262</td>\n",
       "      <td>6</td>\n",
       "      <td>1</td>\n",
       "      <td>Reg</td>\n",
       "      <td>Lvl</td>\n",
       "      <td>tier1</td>\n",
       "      <td>Floor1</td>\n",
       "      <td>6</td>\n",
       "      <td>(1975.0, 1980.0]</td>\n",
       "      <td>TA</td>\n",
       "      <td>Ex</td>\n",
       "      <td>Y</td>\n",
       "      <td>SBrkr</td>\n",
       "      <td>Attchd</td>\n",
       "      <td>(440.0, 480.0]</td>\n",
       "    </tr>\n",
       "    <tr>\n",
       "      <th>2</th>\n",
       "      <td>13.457637</td>\n",
       "      <td>1786</td>\n",
       "      <td>6</td>\n",
       "      <td>1</td>\n",
       "      <td>IR</td>\n",
       "      <td>Lvl</td>\n",
       "      <td>tier1</td>\n",
       "      <td>Floor2</td>\n",
       "      <td>7</td>\n",
       "      <td>(2000.0, 2005.0]</td>\n",
       "      <td>Gd</td>\n",
       "      <td>Ex</td>\n",
       "      <td>Y</td>\n",
       "      <td>SBrkr</td>\n",
       "      <td>Attchd</td>\n",
       "      <td>(560.0, 620.2]</td>\n",
       "    </tr>\n",
       "    <tr>\n",
       "      <th>3</th>\n",
       "      <td>13.221285</td>\n",
       "      <td>1717</td>\n",
       "      <td>7</td>\n",
       "      <td>1</td>\n",
       "      <td>IR</td>\n",
       "      <td>Lvl</td>\n",
       "      <td>tier2</td>\n",
       "      <td>Floor2</td>\n",
       "      <td>7</td>\n",
       "      <td>(1965.0, 1970.0]</td>\n",
       "      <td>TA</td>\n",
       "      <td>Gd</td>\n",
       "      <td>Y</td>\n",
       "      <td>SBrkr</td>\n",
       "      <td>Detchd</td>\n",
       "      <td>(620.2, 757.1]</td>\n",
       "    </tr>\n",
       "    <tr>\n",
       "      <th>4</th>\n",
       "      <td>13.799686</td>\n",
       "      <td>2198</td>\n",
       "      <td>9</td>\n",
       "      <td>1</td>\n",
       "      <td>IR</td>\n",
       "      <td>Lvl</td>\n",
       "      <td>tier2</td>\n",
       "      <td>Floor2</td>\n",
       "      <td>8</td>\n",
       "      <td>(1995.0, 2000.0]</td>\n",
       "      <td>Gd</td>\n",
       "      <td>Ex</td>\n",
       "      <td>Y</td>\n",
       "      <td>SBrkr</td>\n",
       "      <td>Attchd</td>\n",
       "      <td>(757.1, 1418.0]</td>\n",
       "    </tr>\n",
       "  </tbody>\n",
       "</table>\n",
       "</div>"
      ],
      "text/plain": [
       "   LotAreaLog  GrLivArea  TotRms2  Fireplaces2 LotShapeCat LandContour  \\\n",
       "0   13.044736       1710        8            0         Reg         Lvl   \n",
       "1   13.228819       1262        6            1         Reg         Lvl   \n",
       "2   13.457637       1786        6            1          IR         Lvl   \n",
       "3   13.221285       1717        7            1          IR         Lvl   \n",
       "4   13.799686       2198        9            1          IR         Lvl   \n",
       "\n",
       "  NeighborhoodBin HouseStyleBin  OverallQual      YearRemodBin ExterQual2  \\\n",
       "0           tier1        Floor2            7  (2000.0, 2005.0]         Gd   \n",
       "1           tier1        Floor1            6  (1975.0, 1980.0]         TA   \n",
       "2           tier1        Floor2            7  (2000.0, 2005.0]         Gd   \n",
       "3           tier2        Floor2            7  (1965.0, 1970.0]         TA   \n",
       "4           tier2        Floor2            8  (1995.0, 2000.0]         Gd   \n",
       "\n",
       "  HeatingQC2 CentralAir Electrical2 GarageType2    GarageAreaBin  \n",
       "0         Ex          Y       SBrkr      Attchd   (516.0, 560.0]  \n",
       "1         Ex          Y       SBrkr      Attchd   (440.0, 480.0]  \n",
       "2         Ex          Y       SBrkr      Attchd   (560.0, 620.2]  \n",
       "3         Gd          Y       SBrkr      Detchd   (620.2, 757.1]  \n",
       "4         Ex          Y       SBrkr      Attchd  (757.1, 1418.0]  "
      ]
     },
     "execution_count": 84,
     "metadata": {},
     "output_type": "execute_result"
    }
   ],
   "source": [
    "X.head()"
   ]
  },
  {
   "cell_type": "code",
   "execution_count": 85,
   "metadata": {},
   "outputs": [],
   "source": [
    "y = train_df['SalePrice']"
   ]
  },
  {
   "cell_type": "code",
   "execution_count": 86,
   "metadata": {},
   "outputs": [],
   "source": [
    "from sklearn.preprocessing import OneHotEncoder\n",
    "enc = OneHotEncoder()"
   ]
  },
  {
   "cell_type": "code",
   "execution_count": 87,
   "metadata": {},
   "outputs": [
    {
     "data": {
      "text/plain": [
       "OneHotEncoder(categorical_features=None, categories=None,\n",
       "       dtype=<class 'numpy.float64'>, handle_unknown='error',\n",
       "       n_values=None, sparse=True)"
      ]
     },
     "execution_count": 87,
     "metadata": {},
     "output_type": "execute_result"
    }
   ],
   "source": [
    "enc.fit(train_df[categorical_feature])"
   ]
  },
  {
   "cell_type": "code",
   "execution_count": 88,
   "metadata": {},
   "outputs": [
    {
     "data": {
      "text/plain": [
       "[array(['IR', 'Reg'], dtype=object),\n",
       " array(['Bnk', 'HLS', 'Low', 'Lvl'], dtype=object),\n",
       " array(['tier1', 'tier2', 'tier3', 'tier4', 'tier5'], dtype=object),\n",
       " array(['Floor1', 'Floor1.5', 'Floor2'], dtype=object),\n",
       " array([3, 4, 5, 6, 7, 8, 9, 10], dtype=object),\n",
       " array([Interval(1949.94, 1955.0, closed='right'),\n",
       "        Interval(1955.0, 1960.0, closed='right'),\n",
       "        Interval(1960.0, 1965.0, closed='right'),\n",
       "        Interval(1965.0, 1970.0, closed='right'),\n",
       "        Interval(1970.0, 1975.0, closed='right'),\n",
       "        Interval(1975.0, 1980.0, closed='right'),\n",
       "        Interval(1980.0, 1985.0, closed='right'),\n",
       "        Interval(1985.0, 1990.0, closed='right'),\n",
       "        Interval(1990.0, 1995.0, closed='right'),\n",
       "        Interval(1995.0, 2000.0, closed='right'),\n",
       "        Interval(2000.0, 2005.0, closed='right'),\n",
       "        Interval(2005.0, 2010.0, closed='right')], dtype=object),\n",
       " array(['Gd', 'TA'], dtype=object),\n",
       " array(['Bad', 'Ex', 'Gd', 'TA'], dtype=object),\n",
       " array(['N', 'Y'], dtype=object),\n",
       " array(['Fuse', 'SBrkr'], dtype=object),\n",
       " array(['Attchd', 'BuiltIn', 'Detchd', 'NoGarage'], dtype=object),\n",
       " array([Interval(-0.001, 240.0, closed='right'),\n",
       "        Interval(240.0, 295.6, closed='right'),\n",
       "        Interval(295.6, 384.0, closed='right'),\n",
       "        Interval(384.0, 440.0, closed='right'),\n",
       "        Interval(440.0, 480.0, closed='right'),\n",
       "        Interval(480.0, 516.0, closed='right'),\n",
       "        Interval(516.0, 560.0, closed='right'),\n",
       "        Interval(560.0, 620.2, closed='right'),\n",
       "        Interval(620.2, 757.1, closed='right'),\n",
       "        Interval(757.1, 1418.0, closed='right')], dtype=object)]"
      ]
     },
     "execution_count": 88,
     "metadata": {},
     "output_type": "execute_result"
    }
   ],
   "source": [
    "enc.categories_"
   ]
  },
  {
   "cell_type": "code",
   "execution_count": 89,
   "metadata": {},
   "outputs": [],
   "source": [
    "enc_res = enc.transform(train_df[categorical_feature])"
   ]
  },
  {
   "cell_type": "code",
   "execution_count": 90,
   "metadata": {},
   "outputs": [
    {
     "name": "stdout",
     "output_type": "stream",
     "text": [
      "[[0. 1. 0. ... 0. 0. 0.]\n",
      " [0. 1. 0. ... 0. 0. 0.]\n",
      " [1. 0. 0. ... 1. 0. 0.]\n",
      " ...\n",
      " [0. 1. 0. ... 0. 0. 0.]\n",
      " [0. 1. 0. ... 0. 0. 0.]\n",
      " [0. 1. 0. ... 0. 0. 0.]]\n"
     ]
    }
   ],
   "source": [
    "print(enc_res.toarray())"
   ]
  },
  {
   "cell_type": "code",
   "execution_count": 91,
   "metadata": {},
   "outputs": [],
   "source": [
    "from sklearn.preprocessing import StandardScaler"
   ]
  },
  {
   "cell_type": "code",
   "execution_count": 92,
   "metadata": {},
   "outputs": [
    {
     "name": "stderr",
     "output_type": "stream",
     "text": [
      "C:\\Users\\CSY\\Anaconda3\\lib\\site-packages\\sklearn\\preprocessing\\data.py:625: DataConversionWarning: Data with input dtype int64, float64 were all converted to float64 by StandardScaler.\n",
      "  return self.partial_fit(X, y)\n",
      "C:\\Users\\CSY\\Anaconda3\\lib\\site-packages\\sklearn\\base.py:462: DataConversionWarning: Data with input dtype int64, float64 were all converted to float64 by StandardScaler.\n",
      "  return self.fit(X, **fit_params).transform(X)\n"
     ]
    }
   ],
   "source": [
    "sc = StandardScaler()\n",
    "scaled_numerical_feature = sc.fit_transform(train_df[numerical_feature])"
   ]
  },
  {
   "cell_type": "code",
   "execution_count": 93,
   "metadata": {},
   "outputs": [],
   "source": [
    "scaled_numerical_feature = pd.DataFrame(scaled_numerical_feature)"
   ]
  },
  {
   "cell_type": "code",
   "execution_count": 94,
   "metadata": {},
   "outputs": [],
   "source": [
    "onehot_added = pd.DataFrame(enc_res.toarray())\n",
    "all_x = pd.concat([scaled_numerical_feature,onehot_added],axis = 1)"
   ]
  },
  {
   "cell_type": "code",
   "execution_count": 95,
   "metadata": {},
   "outputs": [],
   "source": [
    "from sklearn.model_selection import train_test_split"
   ]
  },
  {
   "cell_type": "code",
   "execution_count": 96,
   "metadata": {},
   "outputs": [],
   "source": [
    "#训练&试验split\n",
    "xTrain, xVal, yTrain, yVal = train_test_split(all_x, y, test_size = 0.2, random_state = 1)"
   ]
  },
  {
   "cell_type": "markdown",
   "metadata": {},
   "source": [
    "### Linear Regression "
   ]
  },
  {
   "cell_type": "code",
   "execution_count": 97,
   "metadata": {},
   "outputs": [],
   "source": [
    "from sklearn.linear_model import LinearRegression"
   ]
  },
  {
   "cell_type": "code",
   "execution_count": 98,
   "metadata": {},
   "outputs": [],
   "source": [
    "lin = LinearRegression()\n",
    "lin.fit(xTrain, yTrain)\n",
    "lin_xVal_predict = lin.predict(xVal)"
   ]
  },
  {
   "cell_type": "code",
   "execution_count": 99,
   "metadata": {},
   "outputs": [],
   "source": [
    "from sklearn.metrics import mean_squared_error"
   ]
  },
  {
   "cell_type": "code",
   "execution_count": 100,
   "metadata": {},
   "outputs": [
    {
     "data": {
      "text/plain": [
       "31391.984802805782"
      ]
     },
     "execution_count": 100,
     "metadata": {},
     "output_type": "execute_result"
    }
   ],
   "source": [
    "mse_lin = mean_squared_error(lin_xVal_predict, yVal)\n",
    "np.sqrt(mse_lin)"
   ]
  },
  {
   "cell_type": "code",
   "execution_count": 101,
   "metadata": {},
   "outputs": [
    {
     "data": {
      "text/plain": [
       "175772.61301369863"
      ]
     },
     "execution_count": 101,
     "metadata": {},
     "output_type": "execute_result"
    }
   ],
   "source": [
    "yVal.mean()"
   ]
  },
  {
   "cell_type": "markdown",
   "metadata": {},
   "source": [
    "### RandomForest"
   ]
  },
  {
   "cell_type": "code",
   "execution_count": 102,
   "metadata": {},
   "outputs": [],
   "source": [
    "from sklearn.ensemble import RandomForestRegressor"
   ]
  },
  {
   "cell_type": "code",
   "execution_count": 103,
   "metadata": {},
   "outputs": [],
   "source": [
    "rf = RandomForestRegressor()"
   ]
  },
  {
   "cell_type": "code",
   "execution_count": 104,
   "metadata": {},
   "outputs": [
    {
     "name": "stderr",
     "output_type": "stream",
     "text": [
      "C:\\Users\\CSY\\Anaconda3\\lib\\site-packages\\sklearn\\ensemble\\forest.py:246: FutureWarning: The default value of n_estimators will change from 10 in version 0.20 to 100 in 0.22.\n",
      "  \"10 in version 0.20 to 100 in 0.22.\", FutureWarning)\n"
     ]
    },
    {
     "data": {
      "text/plain": [
       "RandomForestRegressor(bootstrap=True, criterion='mse', max_depth=None,\n",
       "           max_features='auto', max_leaf_nodes=None,\n",
       "           min_impurity_decrease=0.0, min_impurity_split=None,\n",
       "           min_samples_leaf=1, min_samples_split=2,\n",
       "           min_weight_fraction_leaf=0.0, n_estimators=10, n_jobs=None,\n",
       "           oob_score=False, random_state=None, verbose=0, warm_start=False)"
      ]
     },
     "execution_count": 104,
     "metadata": {},
     "output_type": "execute_result"
    }
   ],
   "source": [
    "rf.fit(xTrain, yTrain)"
   ]
  },
  {
   "cell_type": "code",
   "execution_count": 105,
   "metadata": {},
   "outputs": [],
   "source": [
    "rf_xVal_predict = rf.predict(xVal)"
   ]
  },
  {
   "cell_type": "code",
   "execution_count": 106,
   "metadata": {},
   "outputs": [
    {
     "data": {
      "text/plain": [
       "32873.113388673846"
      ]
     },
     "execution_count": 106,
     "metadata": {},
     "output_type": "execute_result"
    }
   ],
   "source": [
    "mse_rf = mean_squared_error(rf_xVal_predict, yVal)\n",
    "np.sqrt(mse_rf)"
   ]
  },
  {
   "cell_type": "code",
   "execution_count": 107,
   "metadata": {},
   "outputs": [],
   "source": [
    "from sklearn.model_selection import RandomizedSearchCV"
   ]
  },
  {
   "cell_type": "code",
   "execution_count": 108,
   "metadata": {},
   "outputs": [],
   "source": [
    "param_grid = {\n",
    "    'max_depth': [7,10,13,15,17],\n",
    "    'max_features': [5,7,10],\n",
    "    'min_samples_split': [2,5,10],\n",
    "    'n_estimators': [20,50,100]\n",
    "}"
   ]
  },
  {
   "cell_type": "code",
   "execution_count": 109,
   "metadata": {},
   "outputs": [],
   "source": [
    "rf_random = RandomizedSearchCV(estimator = rf, param_distributions = param_grid,n_iter=100, \n",
    "                          cv = 10)"
   ]
  },
  {
   "cell_type": "code",
   "execution_count": 110,
   "metadata": {},
   "outputs": [
    {
     "data": {
      "text/plain": [
       "RandomizedSearchCV(cv=10, error_score='raise-deprecating',\n",
       "          estimator=RandomForestRegressor(bootstrap=True, criterion='mse', max_depth=None,\n",
       "           max_features='auto', max_leaf_nodes=None,\n",
       "           min_impurity_decrease=0.0, min_impurity_split=None,\n",
       "           min_samples_leaf=1, min_samples_split=2,\n",
       "           min_weight_fraction_leaf=0.0, n_estimators=10, n_jobs=None,\n",
       "           oob_score=False, random_state=None, verbose=0, warm_start=False),\n",
       "          fit_params=None, iid='warn', n_iter=100, n_jobs=None,\n",
       "          param_distributions={'max_depth': [7, 10, 13, 15, 17], 'max_features': [5, 7, 10], 'min_samples_split': [2, 5, 10], 'n_estimators': [20, 50, 100]},\n",
       "          pre_dispatch='2*n_jobs', random_state=None, refit=True,\n",
       "          return_train_score='warn', scoring=None, verbose=0)"
      ]
     },
     "execution_count": 110,
     "metadata": {},
     "output_type": "execute_result"
    }
   ],
   "source": [
    "rf_random.fit(xTrain,yTrain)"
   ]
  },
  {
   "cell_type": "code",
   "execution_count": 111,
   "metadata": {},
   "outputs": [
    {
     "data": {
      "text/plain": [
       "RandomForestRegressor(bootstrap=True, criterion='mse', max_depth=13,\n",
       "           max_features=10, max_leaf_nodes=None, min_impurity_decrease=0.0,\n",
       "           min_impurity_split=None, min_samples_leaf=1,\n",
       "           min_samples_split=5, min_weight_fraction_leaf=0.0,\n",
       "           n_estimators=100, n_jobs=None, oob_score=False,\n",
       "           random_state=None, verbose=0, warm_start=False)"
      ]
     },
     "execution_count": 111,
     "metadata": {},
     "output_type": "execute_result"
    }
   ],
   "source": [
    "rf_random.best_estimator_"
   ]
  },
  {
   "cell_type": "code",
   "execution_count": 112,
   "metadata": {},
   "outputs": [],
   "source": [
    "pred_rf_rand = rf_random.predict(xVal)"
   ]
  },
  {
   "cell_type": "code",
   "execution_count": 113,
   "metadata": {},
   "outputs": [
    {
     "data": {
      "text/plain": [
       "31765.76763523173"
      ]
     },
     "execution_count": 113,
     "metadata": {},
     "output_type": "execute_result"
    }
   ],
   "source": [
    "mse_rf_rand = mean_squared_error(pred_rf_rand, yVal)\n",
    "np.sqrt(mse_rf_rand)"
   ]
  },
  {
   "cell_type": "markdown",
   "metadata": {},
   "source": [
    "## Test Set"
   ]
  },
  {
   "cell_type": "code",
   "execution_count": 114,
   "metadata": {},
   "outputs": [],
   "source": [
    "test_df = pd.read_csv(\"test.csv\")"
   ]
  },
  {
   "cell_type": "code",
   "execution_count": 115,
   "metadata": {},
   "outputs": [],
   "source": [
    "test_df['LotAreaLog'] = np.log2(test_df.LotArea)"
   ]
  },
  {
   "cell_type": "code",
   "execution_count": 116,
   "metadata": {},
   "outputs": [
    {
     "data": {
      "text/plain": [
       "0"
      ]
     },
     "execution_count": 116,
     "metadata": {},
     "output_type": "execute_result"
    }
   ],
   "source": [
    "test_df['LotAreaLog'].isnull().sum()"
   ]
  },
  {
   "cell_type": "code",
   "execution_count": 117,
   "metadata": {},
   "outputs": [],
   "source": [
    "test_df['LotShapeCat'] = test_df.LotShape.replace([\"IR1\",\"IR2\",\"IR3\"],\"IR\")"
   ]
  },
  {
   "cell_type": "code",
   "execution_count": 118,
   "metadata": {},
   "outputs": [
    {
     "data": {
      "text/plain": [
       "array(['Reg', 'IR'], dtype=object)"
      ]
     },
     "execution_count": 118,
     "metadata": {},
     "output_type": "execute_result"
    }
   ],
   "source": [
    "test_df['LotShapeCat'].unique()"
   ]
  },
  {
   "cell_type": "code",
   "execution_count": 119,
   "metadata": {},
   "outputs": [],
   "source": [
    "test_df[\"NeighborhoodBin\"]  = test_df[\"Neighborhood\"]\n",
    "test_df[\"NeighborhoodBin\"]  = test_df[\"NeighborhoodBin\"].replace([\"Veenker\", \"CollgCr\"], \"tier1\")\n",
    "test_df[\"NeighborhoodBin\"]  = test_df[\"NeighborhoodBin\"].replace([\"Crawfor\", \"NoRidge\", \"Mitchel\",\"Somerst\",\"NWAmes\"], \"tier2\")\n",
    "test_df[\"NeighborhoodBin\"]  = test_df[\"NeighborhoodBin\"].replace([\"OldTown\",\"BrkSide\",\"Sawyer\",\"NridgHt\",\"NAmes\",\\\n",
    "                                                              \"SawyerW\",\"IDOTRR\",\"MeadowV\"], \"tier3\")\n",
    "test_df[\"NeighborhoodBin\"]  = test_df[\"NeighborhoodBin\"].replace([\"Edwards\", \"Timber\",\"Gilbert\",\"StoneBr\",\"ClearCr\"], \"tier4\")\n",
    "test_df[\"NeighborhoodBin\"]  = test_df[\"NeighborhoodBin\"].replace([\"NPkVill\", \"Blmngtn\",\"BrDale\",\"SWISU\",\"Blueste\"], \"tier5\")"
   ]
  },
  {
   "cell_type": "code",
   "execution_count": 120,
   "metadata": {},
   "outputs": [
    {
     "data": {
      "text/plain": [
       "array(['tier3', 'tier4', 'tier5', 'tier2', 'tier1'], dtype=object)"
      ]
     },
     "execution_count": 120,
     "metadata": {},
     "output_type": "execute_result"
    }
   ],
   "source": [
    "test_df['NeighborhoodBin'].unique()"
   ]
  },
  {
   "cell_type": "code",
   "execution_count": 121,
   "metadata": {},
   "outputs": [],
   "source": [
    "test_df[\"HouseStyleBin\"]  = test_df[\"HouseStyle\"]\n",
    "test_df[\"HouseStyleBin\"]  = test_df[\"HouseStyleBin\"].replace([\"2Story\", \"2.5Fin\"], \"Floor2\")\n",
    "test_df[\"HouseStyleBin\"]  = test_df[\"HouseStyleBin\"].replace([\"1.5Fin\", \"1.5Unf\",\"SFoyer\", \"2.5Unf\"], \"Floor1.5\")\n",
    "test_df[\"HouseStyleBin\"]  = test_df[\"HouseStyleBin\"].replace([\"SLvl\",\"1Story\"], \"Floor1\")"
   ]
  },
  {
   "cell_type": "code",
   "execution_count": 122,
   "metadata": {},
   "outputs": [
    {
     "data": {
      "text/plain": [
       "array(['Floor1', 'Floor2', 'Floor1.5'], dtype=object)"
      ]
     },
     "execution_count": 122,
     "metadata": {},
     "output_type": "execute_result"
    }
   ],
   "source": [
    "test_df['HouseStyleBin'].unique()"
   ]
  },
  {
   "cell_type": "code",
   "execution_count": 123,
   "metadata": {},
   "outputs": [],
   "source": [
    "test_df['OverallQual'] = test_df.OverallQual.replace([1,2,3],3)"
   ]
  },
  {
   "cell_type": "code",
   "execution_count": 124,
   "metadata": {},
   "outputs": [
    {
     "data": {
      "text/plain": [
       "array([ 5,  6,  8,  7,  4,  9,  3, 10], dtype=int64)"
      ]
     },
     "execution_count": 124,
     "metadata": {},
     "output_type": "execute_result"
    }
   ],
   "source": [
    "test_df['OverallQual'].unique()"
   ]
  },
  {
   "cell_type": "code",
   "execution_count": 125,
   "metadata": {},
   "outputs": [],
   "source": [
    "test_df[\"YearRemodBin\"] = pd.cut(test_df[\"YearRemodAdd\"], 6)"
   ]
  },
  {
   "cell_type": "code",
   "execution_count": 126,
   "metadata": {},
   "outputs": [
    {
     "data": {
      "text/plain": [
       "[(1960.0, 1965.0], (1955.0, 1960.0], (1995.0, 2000.0], (1990.0, 1995.0], (2005.0, 2010.0], ..., (1970.0, 1975.0], (2000.0, 2005.0], (1949.94, 1955.0], (1975.0, 1980.0], (1980.0, 1985.0]]\n",
       "Length: 12\n",
       "Categories (12, interval[float64]): [(1949.94, 1955.0] < (1955.0, 1960.0] < (1960.0, 1965.0] < (1965.0, 1970.0] ... (1990.0, 1995.0] < (1995.0, 2000.0] < (2000.0, 2005.0] < (2005.0, 2010.0]]"
      ]
     },
     "execution_count": 126,
     "metadata": {},
     "output_type": "execute_result"
    }
   ],
   "source": [
    "test_df['YearRemodBin'].unique()"
   ]
  },
  {
   "cell_type": "code",
   "execution_count": 127,
   "metadata": {},
   "outputs": [],
   "source": [
    "test_df[\"ExterQual2\"] = test_df[\"ExterQual\"]\n",
    "test_df[\"ExterQual2\"] = test_df[\"ExterQual2\"].replace(['Fa'],'TA')\n",
    "test_df[\"ExterQual2\"] = test_df[\"ExterQual2\"].replace(['Ex'],'Gd')"
   ]
  },
  {
   "cell_type": "code",
   "execution_count": 128,
   "metadata": {},
   "outputs": [
    {
     "data": {
      "text/plain": [
       "array(['TA', 'Gd'], dtype=object)"
      ]
     },
     "execution_count": 128,
     "metadata": {},
     "output_type": "execute_result"
    }
   ],
   "source": [
    "test_df['ExterQual2'].unique()"
   ]
  },
  {
   "cell_type": "code",
   "execution_count": 129,
   "metadata": {},
   "outputs": [],
   "source": [
    "test_df[\"HeatingQC2\"] = test_df[\"HeatingQC\"]\n",
    "test_df[\"HeatingQC2\"] = test_df[\"HeatingQC2\"].replace(['Fa','Po'],'Bad')"
   ]
  },
  {
   "cell_type": "code",
   "execution_count": 130,
   "metadata": {},
   "outputs": [
    {
     "data": {
      "text/plain": [
       "array(['TA', 'Gd', 'Ex', 'Bad'], dtype=object)"
      ]
     },
     "execution_count": 130,
     "metadata": {},
     "output_type": "execute_result"
    }
   ],
   "source": [
    "test_df['HeatingQC2'].unique()"
   ]
  },
  {
   "cell_type": "code",
   "execution_count": 131,
   "metadata": {},
   "outputs": [],
   "source": [
    "test_df[\"Electrical2\"] = test_df[\"Electrical\"]\n",
    "test_df[\"Electrical2\"] = test_df[\"Electrical2\"].replace(['FuseF','FuseA','FuseP','Mix'],'Fuse')"
   ]
  },
  {
   "cell_type": "code",
   "execution_count": 132,
   "metadata": {},
   "outputs": [
    {
     "data": {
      "text/plain": [
       "array(['SBrkr', 'Fuse'], dtype=object)"
      ]
     },
     "execution_count": 132,
     "metadata": {},
     "output_type": "execute_result"
    }
   ],
   "source": [
    "test_df['Electrical2'].unique()"
   ]
  },
  {
   "cell_type": "code",
   "execution_count": 133,
   "metadata": {},
   "outputs": [],
   "source": [
    "test_df[\"TotRms2\"] = test_df[\"TotRmsAbvGrd\"]\n",
    "test_df[\"TotRms2\"] = test_df[\"TotRms2\"].replace([2,3],4)\n",
    "test_df[\"TotRms2\"] = test_df[\"TotRms2\"].replace([10, 11, 12],10)"
   ]
  },
  {
   "cell_type": "code",
   "execution_count": 134,
   "metadata": {},
   "outputs": [
    {
     "data": {
      "text/plain": [
       "array([ 5,  6,  7,  4, 10,  8,  9, 13, 15], dtype=int64)"
      ]
     },
     "execution_count": 134,
     "metadata": {},
     "output_type": "execute_result"
    }
   ],
   "source": [
    "test_df['TotRms2'].unique()"
   ]
  },
  {
   "cell_type": "code",
   "execution_count": 135,
   "metadata": {},
   "outputs": [],
   "source": [
    "test_df[\"Fireplaces2\"] = test_df[\"Fireplaces\"]\n",
    "test_df[\"Fireplaces2\"] = test_df[\"Fireplaces2\"].replace([3],2)"
   ]
  },
  {
   "cell_type": "code",
   "execution_count": 136,
   "metadata": {},
   "outputs": [
    {
     "data": {
      "text/plain": [
       "array([0, 1, 2, 4], dtype=int64)"
      ]
     },
     "execution_count": 136,
     "metadata": {},
     "output_type": "execute_result"
    }
   ],
   "source": [
    "test_df['Fireplaces2'].unique()"
   ]
  },
  {
   "cell_type": "code",
   "execution_count": 137,
   "metadata": {},
   "outputs": [],
   "source": [
    "test_df[\"GarageType2\"] = test_df[\"GarageType\"]\n",
    "test_df[\"GarageType2\"] = test_df[\"GarageType2\"].replace(['Basment','CarPort','2Types'],'Detchd')\n",
    "test_df[\"GarageType2\"] = test_df[\"GarageType2\"].fillna(\"NoGarage\")"
   ]
  },
  {
   "cell_type": "code",
   "execution_count": 138,
   "metadata": {},
   "outputs": [
    {
     "data": {
      "text/plain": [
       "array(['Attchd', 'Detchd', 'BuiltIn', 'NoGarage'], dtype=object)"
      ]
     },
     "execution_count": 138,
     "metadata": {},
     "output_type": "execute_result"
    }
   ],
   "source": [
    "test_df['GarageType2'].unique()"
   ]
  },
  {
   "cell_type": "code",
   "execution_count": 139,
   "metadata": {},
   "outputs": [
    {
     "data": {
      "text/plain": [
       "1"
      ]
     },
     "execution_count": 139,
     "metadata": {},
     "output_type": "execute_result"
    }
   ],
   "source": [
    "test_df['GarageArea'].isnull().sum()"
   ]
  },
  {
   "cell_type": "code",
   "execution_count": 140,
   "metadata": {},
   "outputs": [],
   "source": [
    "test_df['GarageArea'] = test_df['GarageArea'].fillna(0)"
   ]
  },
  {
   "cell_type": "code",
   "execution_count": 141,
   "metadata": {},
   "outputs": [
    {
     "data": {
      "text/plain": [
       "0"
      ]
     },
     "execution_count": 141,
     "metadata": {},
     "output_type": "execute_result"
    }
   ],
   "source": [
    "test_df['GarageArea'].isnull().sum()"
   ]
  },
  {
   "cell_type": "code",
   "execution_count": 142,
   "metadata": {},
   "outputs": [],
   "source": [
    "test_df[\"GarageAreaBin\"] = pd.qcut(test_df[\"GarageArea\"],10)"
   ]
  },
  {
   "cell_type": "code",
   "execution_count": 143,
   "metadata": {},
   "outputs": [
    {
     "data": {
      "text/plain": [
       "[(621.0, 758.0], (296.2, 365.4], (480.0, 510.8], (437.0, 480.0], (365.4, 437.0], (510.8, 561.0], (240.0, 296.2], (758.0, 1488.0], (561.0, 621.0], (-0.001, 240.0]]\n",
       "Categories (10, interval[float64]): [(-0.001, 240.0] < (240.0, 296.2] < (296.2, 365.4] < (365.4, 437.0] ... (510.8, 561.0] < (561.0, 621.0] < (621.0, 758.0] < (758.0, 1488.0]]"
      ]
     },
     "execution_count": 143,
     "metadata": {},
     "output_type": "execute_result"
    }
   ],
   "source": [
    "test_df['GarageAreaBin'].unique()"
   ]
  },
  {
   "cell_type": "code",
   "execution_count": 144,
   "metadata": {},
   "outputs": [
    {
     "data": {
      "text/plain": [
       "0"
      ]
     },
     "execution_count": 144,
     "metadata": {},
     "output_type": "execute_result"
    }
   ],
   "source": [
    "test_df['GarageAreaBin'].isnull().sum()"
   ]
  },
  {
   "cell_type": "code",
   "execution_count": 145,
   "metadata": {},
   "outputs": [
    {
     "name": "stderr",
     "output_type": "stream",
     "text": [
      "C:\\Users\\CSY\\Anaconda3\\lib\\site-packages\\sklearn\\preprocessing\\data.py:625: DataConversionWarning: Data with input dtype int64, float64 were all converted to float64 by StandardScaler.\n",
      "  return self.partial_fit(X, y)\n",
      "C:\\Users\\CSY\\Anaconda3\\lib\\site-packages\\sklearn\\base.py:462: DataConversionWarning: Data with input dtype int64, float64 were all converted to float64 by StandardScaler.\n",
      "  return self.fit(X, **fit_params).transform(X)\n"
     ]
    }
   ],
   "source": [
    "scaled_numerical_feature_test = sc.fit_transform(test_df[numerical_feature])"
   ]
  },
  {
   "cell_type": "code",
   "execution_count": 146,
   "metadata": {},
   "outputs": [],
   "source": [
    "enc.fit(test_df[categorical_feature])\n",
    "enc_res_test = enc.transform(test_df[categorical_feature])\n",
    "scaled_numerical_feature_test = pd.DataFrame(scaled_numerical_feature_test)\n",
    "onehot_added_test = pd.DataFrame(enc_res_test.toarray())\n",
    "all_x_test = pd.concat([scaled_numerical_feature_test,onehot_added_test],axis = 1)"
   ]
  },
  {
   "cell_type": "code",
   "execution_count": 147,
   "metadata": {},
   "outputs": [],
   "source": [
    "test_df['prediction'] = rf_random.predict(all_x_test)"
   ]
  },
  {
   "cell_type": "code",
   "execution_count": 148,
   "metadata": {},
   "outputs": [],
   "source": [
    "dataframe = pd.DataFrame({'Id':test_df['Id'],'SalePrice':test_df['prediction']})\n",
    "dataframe.to_csv(\"Predict.csv\",index=False)"
   ]
  },
  {
   "cell_type": "code",
   "execution_count": null,
   "metadata": {},
   "outputs": [],
   "source": []
  },
  {
   "cell_type": "code",
   "execution_count": null,
   "metadata": {},
   "outputs": [],
   "source": []
  }
 ],
 "metadata": {
  "kernelspec": {
   "display_name": "Python 3",
   "language": "python",
   "name": "python3"
  },
  "language_info": {
   "codemirror_mode": {
    "name": "ipython",
    "version": 3
   },
   "file_extension": ".py",
   "mimetype": "text/x-python",
   "name": "python",
   "nbconvert_exporter": "python",
   "pygments_lexer": "ipython3",
   "version": "3.7.1"
  }
 },
 "nbformat": 4,
 "nbformat_minor": 2
}
